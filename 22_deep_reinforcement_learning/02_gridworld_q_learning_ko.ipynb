{
  "cells": [
    {
      "cell_type": "markdown",
      "metadata": {},
      "source": [
        "# GridWorld 환경에서의 Q-Learning"
      ]
    },
    {
      "cell_type": "markdown",
      "metadata": {},
      "source": [
        "Q-learning은 Chris Watkins가 1989년 [박사 논문](http://www.cs.rhul.ac.uk/~chrisw/thesis.html)을 위해 개발했을 때 초기 RL 혁신이었습니다. 이전에 가치 및 정책 반복에 사용했던 전환 및 보상 매트릭스를 모르거나 모델링하지 않고 MDP를 제어하기 위한 증분 동적 프로그래밍을 도입했습니다. 부분. 수렴 증명은 3년 후 [왓킨스와 다얀](http://www.gatsby.ucl.ac.uk/~dayan/papers/wd92.html)에 의해 이루어졌습니다.",
        "\n",
        "Q-학습은 행동-가치 함수 q를 직접 최적화하여 q*를 근사화합니다. 학습은 정책을 벗어나 진행됩니다. 즉, 알고리즘은 가치 함수만으로 암시되는 정책을 기반으로 작업을 선택할 필요가 없습니다. 그러나 수렴하려면 모든 상태-작업 쌍이 훈련 프로세스 전반에 걸쳐 계속 업데이트되어야 합니다. 이를 보장하는 간단한 방법은 ε-탐욕 정책을 사용하는 것입니다."
      ]
    },
    {
      "cell_type": "markdown",
      "metadata": {},
      "source": [
        "Q-learning 알고리즘은 주어진 에피소드 수에 대해 무작위 초기화 후 상태-동작 값 함수를 지속적으로 개선합니다. 각 시간 단계에서 ε-탐욕 정책을 기반으로 작업을 선택하고 학습률 α를 사용하여 다음과 같이 가치 함수를 업데이트합니다."
      ]
    },
    {
      "cell_type": "markdown",
      "metadata": {},
      "source": [
        "$$Q(S_t, A_t)\\leftarrow Q(S_t, A_t) + \\alpha\\left[R_{t_1}+\\gamma \\max_a Q(S_{t+1},,a) − Q(S_t, A_t) \\오른쪽]$$"
      ]
    },
    {
      "cell_type": "markdown",
      "metadata": {},
      "source": [
        "알고리즘은 전환 확률을 알고 있기 때문에 예상 값을 계산하지 않습니다. ε-탐욕 정책에 의해 생성된 보상과 다음 상태에 대한 가치 함수의 현재 추정치로부터 Q 함수를 학습합니다.",
        "\n",
        "이 추정치를 개선하기 위해 추정값 함수를 사용하는 것을 부트스트랩핑이라고 합니다. Q-학습 알고리즘은 TD 학습 알고리즘의 일부입니다. TD 학습은 에피소드에 대한 최종 보상을 받을 때까지 기다리지 않습니다. 대신 최종 보상에 더 가까운 중간 상태의 값을 사용하여 추정치를 업데이트합니다. 이 경우 중간 상태는 한 시간 앞서 있습니다."
      ]
    },
    {
      "cell_type": "markdown",
      "metadata": {},
      "source": [
        "노트북은 동적 프로그램 [예](01_gridworld_dynamic_programming.ipynb)의 3 x 4 상태 그리드를 사용하여 Q-학습 에이전트를 구축하는 방법을 보여줍니다."
      ]
    },
    {
      "cell_type": "markdown",
      "metadata": {},
      "source": [
        "## 가져오기 및 설정"
      ]
    },
    {
      "cell_type": "code",
      "execution_count": 1,
      "metadata": {
        "ExecuteTime": {
          "end_time": "2021-02-25T05:54:03.037900Z",
          "start_time": "2021-02-25T05:54:02.749800Z"
        }
      },
      "outputs": [],
      "source": [
        "%matplotlib inline\n",
        "\n",
        "from pathlib import Path\n",
        "from time import process_time\n",
        "import numpy as np\n",
        "import pandas as pd\n",
        "from mdptoolbox import mdp\n",
        "from itertools import product"
      ]
    },
    {
      "cell_type": "markdown",
      "metadata": {},
      "source": [
        "## 그리드월드 설정"
      ]
    },
    {
      "cell_type": "markdown",
      "metadata": {},
      "source": [
        "먼저 동적 프로그램 [예](01_gridworld_dynamic_programming.ipynb)에서와 같이 작은 그리드 세계를 만듭니다."
      ]
    },
    {
      "cell_type": "markdown",
      "metadata": {},
      "source": [
        "### 상태, 행동, 보상"
      ]
    },
    {
      "cell_type": "code",
      "execution_count": 2,
      "metadata": {
        "ExecuteTime": {
          "end_time": "2021-02-25T05:54:03.040681Z",
          "start_time": "2021-02-25T05:54:03.038813Z"
        }
      },
      "outputs": [],
      "source": [
        "grid_size = (3, 4)\n",
        "blocked_cell = (1, 1)\n",
        "baseline_reward = -0.02\n",
        "absorbing_cells = {(0, 3): 1, (1, 3): -1}"
      ]
    },
    {
      "cell_type": "code",
      "execution_count": 3,
      "metadata": {
        "ExecuteTime": {
          "end_time": "2021-02-25T05:54:03.050157Z",
          "start_time": "2021-02-25T05:54:03.041846Z"
        }
      },
      "outputs": [],
      "source": [
        "actions = ['L', 'U', 'R', 'D']\n",
        "num_actions = len(actions)\n",
        "probs = [.1, .8, .1, 0]"
      ]
    },
    {
      "cell_type": "code",
      "execution_count": 4,
      "metadata": {
        "ExecuteTime": {
          "end_time": "2021-02-25T05:54:03.058520Z",
          "start_time": "2021-02-25T05:54:03.051487Z"
        }
      },
      "outputs": [],
      "source": [
        "to_1d = lambda x: np.ravel_multi_index(x, grid_size)\n",
        "to_2d = lambda x: np.unravel_index(x, grid_size)"
      ]
    },
    {
      "cell_type": "code",
      "execution_count": 5,
      "metadata": {
        "ExecuteTime": {
          "end_time": "2021-02-25T05:54:03.066450Z",
          "start_time": "2021-02-25T05:54:03.059404Z"
        }
      },
      "outputs": [],
      "source": [
        "num_states = np.product(grid_size)\n",
        "cells = list(np.ndindex(grid_size))\n",
        "states = list(range(len(cells)))"
      ]
    },
    {
      "cell_type": "code",
      "execution_count": 6,
      "metadata": {
        "ExecuteTime": {
          "end_time": "2021-02-25T05:54:03.074433Z",
          "start_time": "2021-02-25T05:54:03.067429Z"
        }
      },
      "outputs": [],
      "source": [
        "cell_state = dict(zip(cells, states))\n",
        "state_cell= dict(zip(states, cells))"
      ]
    },
    {
      "cell_type": "code",
      "execution_count": 7,
      "metadata": {
        "ExecuteTime": {
          "end_time": "2021-02-25T05:54:03.087225Z",
          "start_time": "2021-02-25T05:54:03.075526Z"
        }
      },
      "outputs": [],
      "source": [
        "absorbing_states = {to_1d(s):r for s, r in absorbing_cells.items()}\n",
        "blocked_state = to_1d(blocked_cell)"
      ]
    },
    {
      "cell_type": "code",
      "execution_count": 8,
      "metadata": {
        "ExecuteTime": {
          "end_time": "2021-02-25T05:54:03.100214Z",
          "start_time": "2021-02-25T05:54:03.088550Z"
        }
      },
      "outputs": [],
      "source": [
        "state_rewards = np.full(num_states, baseline_reward)\n",
        "state_rewards[blocked_state] = 0\n",
        "for state, reward in absorbing_states.items():\n",
        "    state_rewards[state] = reward"
      ]
    },
    {
      "cell_type": "code",
      "execution_count": 9,
      "metadata": {
        "ExecuteTime": {
          "end_time": "2021-02-25T05:54:03.108053Z",
          "start_time": "2021-02-25T05:54:03.101318Z"
        }
      },
      "outputs": [],
      "source": [
        "action_outcomes = {}\n",
        "for i, action in enumerate(actions):\n",
        "    probs_ = dict(zip([actions[j % 4] for j in range(i, num_actions + i)], probs))\n",
        "    action_outcomes[actions[(i + 1) % 4]] = probs_"
      ]
    },
    {
      "cell_type": "code",
      "execution_count": 10,
      "metadata": {
        "ExecuteTime": {
          "end_time": "2021-02-25T05:54:03.122406Z",
          "start_time": "2021-02-25T05:54:03.109212Z"
        }
      },
      "outputs": [
        {
          "data": {
            "text/plain": [
              "{'U': {'L': 0.1, 'U': 0.8, 'R': 0.1, 'D': 0},\n",
              " 'R': {'U': 0.1, 'R': 0.8, 'D': 0.1, 'L': 0},\n",
              " 'D': {'R': 0.1, 'D': 0.8, 'L': 0.1, 'U': 0},\n",
              " 'L': {'D': 0.1, 'L': 0.8, 'U': 0.1, 'R': 0}}"
            ]
          },
          "execution_count": 10,
          "metadata": {},
          "output_type": "execute_result"
        }
      ],
      "source": [
        "action_outcomes"
      ]
    },
    {
      "cell_type": "markdown",
      "metadata": {},
      "source": [
        "### 전환 매트릭스"
      ]
    },
    {
      "cell_type": "code",
      "execution_count": 11,
      "metadata": {
        "ExecuteTime": {
          "end_time": "2021-02-25T05:54:03.129394Z",
          "start_time": "2021-02-25T05:54:03.123490Z"
        }
      },
      "outputs": [],
      "source": [
        "def get_new_cell(state, move):\n",
        "    cell = to_2d(state)\n",
        "    if actions[move] == 'U':\n",
        "        return cell[0] - 1, cell[1]\n",
        "    elif actions[move] == 'D':\n",
        "        return cell[0] + 1, cell[1]\n",
        "    elif actions[move] == 'R':\n",
        "        return cell[0], cell[1] + 1\n",
        "    elif actions[move] == 'L':\n",
        "        return cell[0], cell[1] - 1"
      ]
    },
    {
      "cell_type": "code",
      "execution_count": 12,
      "metadata": {
        "ExecuteTime": {
          "end_time": "2021-02-25T05:54:03.142521Z",
          "start_time": "2021-02-25T05:54:03.130246Z"
        }
      },
      "outputs": [
        {
          "data": {
            "text/plain": [
              "array([-0.02, -0.02, -0.02,  1.  , -0.02,  0.  , -0.02, -1.  , -0.02,\n",
              "       -0.02, -0.02, -0.02])"
            ]
          },
          "execution_count": 12,
          "metadata": {},
          "output_type": "execute_result"
        }
      ],
      "source": [
        "state_rewards"
      ]
    },
    {
      "cell_type": "code",
      "execution_count": 13,
      "metadata": {
        "ExecuteTime": {
          "end_time": "2021-02-25T05:54:03.150098Z",
          "start_time": "2021-02-25T05:54:03.143541Z"
        }
      },
      "outputs": [],
      "source": [
        "def update_transitions_and_rewards(state, action, outcome):\n",
        "    if state in absorbing_states.keys() or state == blocked_state:\n",
        "        transitions[action, state, state] = 1\n",
        "    else:\n",
        "        new_cell = get_new_cell(state, outcome)\n",
        "        p = action_outcomes[actions[action]][actions[outcome]]\n",
        "        if new_cell not in cells or new_cell == blocked_cell:\n",
        "            transitions[action, state, state] += p\n",
        "            rewards[action, state, state] = baseline_reward\n",
        "        else:\n",
        "            new_state= to_1d(new_cell)\n",
        "            transitions[action, state, new_state] = p\n",
        "            rewards[action, state, new_state] = state_rewards[new_state]"
      ]
    },
    {
      "cell_type": "code",
      "execution_count": 14,
      "metadata": {
        "ExecuteTime": {
          "end_time": "2021-02-25T05:54:03.159252Z",
          "start_time": "2021-02-25T05:54:03.150972Z"
        }
      },
      "outputs": [],
      "source": [
        "rewards = np.zeros(shape=(num_actions, num_states, num_states))\n",
        "transitions = np.zeros((num_actions, num_states, num_states))\n",
        "actions_ = list(range(num_actions))\n",
        "for action, outcome, state in product(actions_, actions_, states):\n",
        "    update_transitions_and_rewards(state, action, outcome)"
      ]
    },
    {
      "cell_type": "code",
      "execution_count": 15,
      "metadata": {
        "ExecuteTime": {
          "end_time": "2021-02-25T05:54:03.172839Z",
          "start_time": "2021-02-25T05:54:03.160349Z"
        }
      },
      "outputs": [
        {
          "data": {
            "text/plain": [
              "((4, 12, 12), (4, 12, 12))"
            ]
          },
          "execution_count": 15,
          "metadata": {},
          "output_type": "execute_result"
        }
      ],
      "source": [
        "rewards.shape, transitions.shape"
      ]
    },
    {
      "cell_type": "markdown",
      "metadata": {},
      "source": [
        "## Q-러닝"
      ]
    },
    {
      "cell_type": "markdown",
      "metadata": {},
      "source": [
        "2,500개의 에피소드에 대해 에이전트를 훈련하고 학습률 α= 0.1, ε-탐욕 정책에 ε=0.05를 사용합니다."
      ]
    },
    {
      "cell_type": "code",
      "execution_count": 16,
      "metadata": {
        "ExecuteTime": {
          "end_time": "2021-02-25T05:54:03.180585Z",
          "start_time": "2021-02-25T05:54:03.173735Z"
        }
      },
      "outputs": [],
      "source": [
        "max_episodes = 2500\n",
        "alpha = .1\n",
        "epsilon = .05\n",
        "gamma = .99"
      ]
    },
    {
      "cell_type": "markdown",
      "metadata": {},
      "source": [
        "그런 다음 상태-동작 값 함수를 [상태 수 및 동작 수] 차원의 NumPy 배열로 무작위로 초기화합니다."
      ]
    },
    {
      "cell_type": "code",
      "execution_count": 17,
      "metadata": {
        "ExecuteTime": {
          "end_time": "2021-02-25T05:54:03.193247Z",
          "start_time": "2021-02-25T05:54:03.181528Z"
        }
      },
      "outputs": [],
      "source": [
        "Q = np.random.rand(num_states, num_actions)\n",
        "skip_states = list(absorbing_states.keys())+[blocked_state]\n",
        "Q[skip_states] = 0"
      ]
    },
    {
      "cell_type": "markdown",
      "metadata": {},
      "source": [
        "알고리즘은 임의의 위치에서 시작하여 종료될 때까지 ε-탐욕 정책에 따라 진행되는 2,500개의 에피소드를 생성하고 Q-학습 규칙에 따라 가치 함수를 업데이트합니다."
      ]
    },
    {
      "cell_type": "code",
      "execution_count": 18,
      "metadata": {
        "ExecuteTime": {
          "end_time": "2021-02-25T05:54:03.879003Z",
          "start_time": "2021-02-25T05:54:03.194224Z"
        }
      },
      "outputs": [
        {
          "data": {
            "text/plain": [
              "0.67793093"
            ]
          },
          "execution_count": 18,
          "metadata": {},
          "output_type": "execute_result"
        }
      ],
      "source": [
        "start = process_time()\n",
        "for episode in range(max_episodes):\n",
        "    state = np.random.choice([s for s in states if s not in skip_states])\n",
        "    while not state in absorbing_states.keys():\n",
        "        if np.random.rand() < epsilon:\n",
        "            action = np.random.choice(num_actions)\n",
        "        else:\n",
        "            action = np.argmax(Q[state])\n",
        "        next_state = np.random.choice(states, p=transitions[action, state])\n",
        "        reward = rewards[action, state, next_state]\n",
        "        Q[state, action] += alpha * (reward + gamma * np.max(Q[next_state])-Q[state, action])\n",
        "        state = next_state\n",
        "process_time() - start"
      ]
    },
    {
      "cell_type": "markdown",
      "metadata": {},
      "source": [
        "에피소드는 0.6초가 걸리며 이전 섹션의 값 반복 예제 결과에 상당히 가까운 값 함수로 수렴됩니다."
      ]
    },
    {
      "cell_type": "code",
      "execution_count": 19,
      "metadata": {
        "ExecuteTime": {
          "end_time": "2021-02-25T05:54:03.887290Z",
          "start_time": "2021-02-25T05:54:03.880012Z"
        }
      },
      "outputs": [
        {
          "data": {
            "text/html": [
              "<div>\n",
              "<style scoped>\n",
              "    .dataframe tbody tr th:only-of-type {\n",
              "        vertical-align: middle;\n",
              "    }\n",
              "\n",
              "    .dataframe tbody tr th {\n",
              "        vertical-align: top;\n",
              "    }\n",
              "\n",
              "    .dataframe thead th {\n",
              "        text-align: right;\n",
              "    }\n",
              "</style>\n",
              "<table border=\"1\" class=\"dataframe\">\n",
              "  <thead>\n",
              "    <tr style=\"text-align: right;\">\n",
              "      <th></th>\n",
              "      <th>0</th>\n",
              "      <th>1</th>\n",
              "      <th>2</th>\n",
              "      <th>3</th>\n",
              "    </tr>\n",
              "  </thead>\n",
              "  <tbody>\n",
              "    <tr>\n",
              "      <th>0</th>\n",
              "      <td>R</td>\n",
              "      <td>R</td>\n",
              "      <td>R</td>\n",
              "      <td>L</td>\n",
              "    </tr>\n",
              "    <tr>\n",
              "      <th>1</th>\n",
              "      <td>U</td>\n",
              "      <td>L</td>\n",
              "      <td>L</td>\n",
              "      <td>L</td>\n",
              "    </tr>\n",
              "    <tr>\n",
              "      <th>2</th>\n",
              "      <td>U</td>\n",
              "      <td>L</td>\n",
              "      <td>L</td>\n",
              "      <td>D</td>\n",
              "    </tr>\n",
              "  </tbody>\n",
              "</table>\n",
              "</div>"
            ],
            "text/plain": [
              "   0  1  2  3\n",
              "0  R  R  R  L\n",
              "1  U  L  L  L\n",
              "2  U  L  L  D"
            ]
          },
          "execution_count": 19,
          "metadata": {},
          "output_type": "execute_result"
        }
      ],
      "source": [
        "pd.DataFrame(np.argmax(Q, 1).reshape(grid_size)).replace(dict(enumerate(actions)))"
      ]
    },
    {
      "cell_type": "code",
      "execution_count": 20,
      "metadata": {
        "ExecuteTime": {
          "end_time": "2021-02-25T05:54:03.900457Z",
          "start_time": "2021-02-25T05:54:03.887990Z"
        }
      },
      "outputs": [
        {
          "data": {
            "text/html": [
              "<div>\n",
              "<style scoped>\n",
              "    .dataframe tbody tr th:only-of-type {\n",
              "        vertical-align: middle;\n",
              "    }\n",
              "\n",
              "    .dataframe tbody tr th {\n",
              "        vertical-align: top;\n",
              "    }\n",
              "\n",
              "    .dataframe thead th {\n",
              "        text-align: right;\n",
              "    }\n",
              "</style>\n",
              "<table border=\"1\" class=\"dataframe\">\n",
              "  <thead>\n",
              "    <tr style=\"text-align: right;\">\n",
              "      <th></th>\n",
              "      <th>0</th>\n",
              "      <th>1</th>\n",
              "      <th>2</th>\n",
              "      <th>3</th>\n",
              "    </tr>\n",
              "  </thead>\n",
              "  <tbody>\n",
              "    <tr>\n",
              "      <th>0</th>\n",
              "      <td>0.877331</td>\n",
              "      <td>0.898778</td>\n",
              "      <td>0.945285</td>\n",
              "      <td>0.000000</td>\n",
              "    </tr>\n",
              "    <tr>\n",
              "      <th>1</th>\n",
              "      <td>0.845945</td>\n",
              "      <td>0.000000</td>\n",
              "      <td>0.706657</td>\n",
              "      <td>0.000000</td>\n",
              "    </tr>\n",
              "    <tr>\n",
              "      <th>2</th>\n",
              "      <td>0.807957</td>\n",
              "      <td>0.775816</td>\n",
              "      <td>0.745815</td>\n",
              "      <td>0.574385</td>\n",
              "    </tr>\n",
              "  </tbody>\n",
              "</table>\n",
              "</div>"
            ],
            "text/plain": [
              "          0         1         2         3\n",
              "0  0.877331  0.898778  0.945285  0.000000\n",
              "1  0.845945  0.000000  0.706657  0.000000\n",
              "2  0.807957  0.775816  0.745815  0.574385"
            ]
          },
          "execution_count": 20,
          "metadata": {},
          "output_type": "execute_result"
        }
      ],
      "source": [
        "pd.DataFrame(np.max(Q, 1).reshape(grid_size))"
      ]
    },
    {
      "cell_type": "markdown",
      "metadata": {},
      "source": [
        "## PyMDP 도구 상자"
      ]
    },
    {
      "cell_type": "markdown",
      "metadata": {},
      "source": [
        "### Q학습"
      ]
    },
    {
      "cell_type": "code",
      "execution_count": 21,
      "metadata": {
        "ExecuteTime": {
          "end_time": "2021-02-25T05:54:14.767304Z",
          "start_time": "2021-02-25T05:54:03.901310Z"
        }
      },
      "outputs": [
        {
          "data": {
            "text/plain": [
              "'Time: 10.8511'"
            ]
          },
          "execution_count": 21,
          "metadata": {},
          "output_type": "execute_result"
        }
      ],
      "source": [
        "start = process_time()\n",
        "ql = mdp.QLearning(transitions=transitions,\n",
        "                   reward=rewards,\n",
        "                   discount=gamma,\n",
        "                   n_iter=int(1e6))\n",
        "\n",
        "ql.run()\n",
        "f'Time: {process_time()-start:.4f}'"
      ]
    },
    {
      "cell_type": "code",
      "execution_count": 22,
      "metadata": {
        "ExecuteTime": {
          "end_time": "2021-02-25T05:54:14.773258Z",
          "start_time": "2021-02-25T05:54:14.768212Z"
        }
      },
      "outputs": [
        {
          "data": {
            "text/html": [
              "<div>\n",
              "<style scoped>\n",
              "    .dataframe tbody tr th:only-of-type {\n",
              "        vertical-align: middle;\n",
              "    }\n",
              "\n",
              "    .dataframe tbody tr th {\n",
              "        vertical-align: top;\n",
              "    }\n",
              "\n",
              "    .dataframe thead th {\n",
              "        text-align: right;\n",
              "    }\n",
              "</style>\n",
              "<table border=\"1\" class=\"dataframe\">\n",
              "  <thead>\n",
              "    <tr style=\"text-align: right;\">\n",
              "      <th></th>\n",
              "      <th>0</th>\n",
              "      <th>1</th>\n",
              "      <th>2</th>\n",
              "      <th>3</th>\n",
              "    </tr>\n",
              "  </thead>\n",
              "  <tbody>\n",
              "    <tr>\n",
              "      <th>0</th>\n",
              "      <td>R</td>\n",
              "      <td>R</td>\n",
              "      <td>R</td>\n",
              "      <td>L</td>\n",
              "    </tr>\n",
              "    <tr>\n",
              "      <th>1</th>\n",
              "      <td>U</td>\n",
              "      <td>L</td>\n",
              "      <td>U</td>\n",
              "      <td>L</td>\n",
              "    </tr>\n",
              "    <tr>\n",
              "      <th>2</th>\n",
              "      <td>R</td>\n",
              "      <td>R</td>\n",
              "      <td>U</td>\n",
              "      <td>D</td>\n",
              "    </tr>\n",
              "  </tbody>\n",
              "</table>\n",
              "</div>"
            ],
            "text/plain": [
              "   0  1  2  3\n",
              "0  R  R  R  L\n",
              "1  U  L  U  L\n",
              "2  R  R  U  D"
            ]
          },
          "execution_count": 22,
          "metadata": {},
          "output_type": "execute_result"
        }
      ],
      "source": [
        "policy = np.asarray([actions[i] for i in ql.policy])\n",
        "pd.DataFrame(policy.reshape(grid_size))"
      ]
    },
    {
      "cell_type": "code",
      "execution_count": 23,
      "metadata": {
        "ExecuteTime": {
          "end_time": "2021-02-25T05:54:14.786936Z",
          "start_time": "2021-02-25T05:54:14.774753Z"
        }
      },
      "outputs": [
        {
          "data": {
            "text/html": [
              "<div>\n",
              "<style scoped>\n",
              "    .dataframe tbody tr th:only-of-type {\n",
              "        vertical-align: middle;\n",
              "    }\n",
              "\n",
              "    .dataframe tbody tr th {\n",
              "        vertical-align: top;\n",
              "    }\n",
              "\n",
              "    .dataframe thead th {\n",
              "        text-align: right;\n",
              "    }\n",
              "</style>\n",
              "<table border=\"1\" class=\"dataframe\">\n",
              "  <thead>\n",
              "    <tr style=\"text-align: right;\">\n",
              "      <th></th>\n",
              "      <th>0</th>\n",
              "      <th>1</th>\n",
              "      <th>2</th>\n",
              "      <th>3</th>\n",
              "    </tr>\n",
              "  </thead>\n",
              "  <tbody>\n",
              "    <tr>\n",
              "      <th>0</th>\n",
              "      <td>0.752821</td>\n",
              "      <td>0.913639</td>\n",
              "      <td>0.963127</td>\n",
              "      <td>0.00000</td>\n",
              "    </tr>\n",
              "    <tr>\n",
              "      <th>1</th>\n",
              "      <td>0.464707</td>\n",
              "      <td>0.000000</td>\n",
              "      <td>0.710295</td>\n",
              "      <td>0.00000</td>\n",
              "    </tr>\n",
              "    <tr>\n",
              "      <th>2</th>\n",
              "      <td>0.227155</td>\n",
              "      <td>0.501195</td>\n",
              "      <td>0.603085</td>\n",
              "      <td>0.23838</td>\n",
              "    </tr>\n",
              "  </tbody>\n",
              "</table>\n",
              "</div>"
            ],
            "text/plain": [
              "          0         1         2        3\n",
              "0  0.752821  0.913639  0.963127  0.00000\n",
              "1  0.464707  0.000000  0.710295  0.00000\n",
              "2  0.227155  0.501195  0.603085  0.23838"
            ]
          },
          "execution_count": 23,
          "metadata": {},
          "output_type": "execute_result"
        }
      ],
      "source": [
        "value = np.asarray(ql.V).reshape(grid_size)\n",
        "pd.DataFrame(value)"
      ]
    }
  ],
  "metadata": {
    "kernelspec": {
      "display_name": "Python 3",
      "language": "python",
      "name": "python3"
    },
    "language_info": {
      "codemirror_mode": {
        "name": "ipython",
        "version": 3
      },
      "file_extension": ".py",
      "mimetype": "text/x-python",
      "name": "python",
      "nbconvert_exporter": "python",
      "pygments_lexer": "ipython3",
      "version": "3.8.8"
    },
    "toc": {
      "base_numbering": 1,
      "nav_menu": {},
      "number_sections": true,
      "sideBar": true,
      "skip_h1_title": true,
      "title_cell": "Table of Contents",
      "title_sidebar": "Contents",
      "toc_cell": false,
      "toc_position": {},
      "toc_section_display": true,
      "toc_window_display": true
    }
  },
  "nbformat": 4,
  "nbformat_minor": 4
}