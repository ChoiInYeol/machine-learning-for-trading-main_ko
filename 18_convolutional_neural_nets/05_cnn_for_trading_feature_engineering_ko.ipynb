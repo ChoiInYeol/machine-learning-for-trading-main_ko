{
  "cells": [
    {
      "cell_type": "markdown",
      "metadata": {},
      "source": [
        "# 거래를 위한 CNN - 1부: 특성 공학"
      ]
    },
    {
      "cell_type": "markdown",
      "metadata": {},
      "source": [
        "시계열 데이터의 그리드형 구조를 활용하기 위해 단변량 및 다변량 시계열에 CNN 아키텍처를 사용할 수 있습니다. 후자의 경우, 서로 다른 색상 신호와 유사하게 서로 다른 시계열을 채널로 간주합니다.",
        "\n",
        "대체 접근 방식은 시계열 알파 요소를 2차원 형식으로 변환하여 CNN의 로컬 패턴 감지 기능을 활용하는 것입니다. [세제르와 오즈바요글루(2018)](https://www.researchgate.net/publication/324802031_Algorithmic_Financial_Trading_with_Deep_Convolutional_Neural_Networks_Time_Series_to_Image_Conversion_Approach)은(는) 서로 다른 간격으로 15개의 기술 지표를 계산하고 계층적 클러스터링(13장, 비지도 학습을 통한 데이터 기반 위험 요소 및 자산 할당 참조)을 사용하여 2차원에서 서로 유사하게 동작하는 지표를 찾는 CNN-TA를 제안합니다. 그리드.",
        "\n",
        "저자는 특정 날짜에 자산을 매수, 보유 또는 매도할지 예측하기 위해 이전에 사용한 CIFAR-10 예제와 유사한 CNN을 훈련합니다. 그들은 CNN 성과를 '매수 후 보유' 및 기타 모델과 비교하고 2007~2017년 기간 동안 다우 30개 주식과 가장 많이 거래된 9개 ETF의 일일 가격 시리즈를 사용하여 모든 대안보다 우수한 성과를 보인다는 사실을 발견했습니다.",
        "\n",
        "*거래용 CNN* 섹션은 일일 미국 주식 가격 데이터를 사용하여 이 접근 방식을 실험하는 세 개의 노트북으로 구성됩니다. 그들은 시연한다",
        "1. 관련 재무 특성을 계산하는 방법",
        "2. 유사한 지표 집합을 이미지 형식으로 변환하고 유사성별로 클러스터링하는 방법",
        "3. 일일 수익률을 예측하고 결과 신호를 기반으로 간단한 롱-숏 전략을 평가하도록 CNN을 훈련하는 방법."
      ]
    },
    {
      "cell_type": "markdown",
      "metadata": {},
      "source": [
        "## 다양한 간격으로 기술 지표 생성",
        "우리는 먼저 2007년부터 2017년까지 5년 단위로 Quandl Wiki 데이터세트에서 달러 규모로 가장 많이 거래된 미국 주식 500개를 선택했습니다.",
        "\n",
        "- 우리의 기능은 15개의 서로 다른 간격으로 계산한 다음 이를 15x15 그리드로 배열하는 15개의 기술 지표와 위험 요인으로 구성됩니다.",
        "- 각 지표에 대해 기간을 6에서 20까지 변경하여 15개의 개별 측정값을 얻습니다."
      ]
    },
    {
      "cell_type": "markdown",
      "metadata": {},
      "source": [
        "## 가져오기 및 설정"
      ]
    },
    {
      "cell_type": "markdown",
      "metadata": {},
      "source": [
        "Python 3.7과 함께 `talib`을 설치하려면 [이것들](https://medium.com/@joelzhang/install-ta-lib-in-python-3-7-51219acacafb) 지침을 따르세요."
      ]
    },
    {
      "cell_type": "code",
      "execution_count": 1,
      "metadata": {
        "ExecuteTime": {
          "end_time": "2021-02-23T16:34:48.739909Z",
          "start_time": "2021-02-23T16:34:48.738054Z"
        }
      },
      "outputs": [],
      "source": [
        "import warnings\n",
        "warnings.filterwarnings('ignore')"
      ]
    },
    {
      "cell_type": "code",
      "execution_count": 2,
      "metadata": {
        "ExecuteTime": {
          "end_time": "2021-02-23T16:34:49.433046Z",
          "start_time": "2021-02-23T16:34:48.744360Z"
        }
      },
      "outputs": [],
      "source": [
        "from talib import (RSI, BBANDS, MACD,\n",
        "                   NATR, WILLR, WMA,\n",
        "                   EMA, SMA, CCI, CMO,\n",
        "                   MACD, PPO, ROC,\n",
        "                   ADOSC, ADX, MOM)\n",
        "import seaborn as sns\n",
        "import matplotlib.pyplot as plt\n",
        "from statsmodels.regression.rolling import RollingOLS\n",
        "import statsmodels.api as sm\n",
        "import pandas_datareader.data as web\n",
        "import pandas as pd\n",
        "import numpy as np\n",
        "from pathlib import Path\n",
        "%matplotlib inline"
      ]
    },
    {
      "cell_type": "code",
      "execution_count": 3,
      "metadata": {
        "ExecuteTime": {
          "end_time": "2021-02-23T16:34:49.435390Z",
          "start_time": "2021-02-23T16:34:49.433913Z"
        }
      },
      "outputs": [],
      "source": [
        "DATA_STORE = '../data/assets.h5'"
      ]
    },
    {
      "cell_type": "code",
      "execution_count": 4,
      "metadata": {
        "ExecuteTime": {
          "end_time": "2021-02-23T16:34:49.442890Z",
          "start_time": "2021-02-23T16:34:49.436319Z"
        }
      },
      "outputs": [],
      "source": [
        "MONTH = 21\n",
        "YEAR = 12 * MONTH"
      ]
    },
    {
      "cell_type": "code",
      "execution_count": 5,
      "metadata": {
        "ExecuteTime": {
          "end_time": "2021-02-23T16:34:49.450476Z",
          "start_time": "2021-02-23T16:34:49.443903Z"
        }
      },
      "outputs": [],
      "source": [
        "START = '2000-01-01'\n",
        "END = '2017-12-31'"
      ]
    },
    {
      "cell_type": "code",
      "execution_count": 6,
      "metadata": {
        "ExecuteTime": {
          "end_time": "2021-02-23T16:34:49.463187Z",
          "start_time": "2021-02-23T16:34:49.451269Z"
        }
      },
      "outputs": [],
      "source": [
        "sns.set_style('whitegrid')\n",
        "idx = pd.IndexSlice"
      ]
    },
    {
      "cell_type": "code",
      "execution_count": 7,
      "metadata": {
        "ExecuteTime": {
          "end_time": "2021-02-23T16:34:49.470587Z",
          "start_time": "2021-02-23T16:34:49.463928Z"
        }
      },
      "outputs": [],
      "source": [
        "T = [1, 5, 10, 21, 42, 63]"
      ]
    },
    {
      "cell_type": "code",
      "execution_count": 8,
      "metadata": {
        "ExecuteTime": {
          "end_time": "2021-02-23T16:34:49.478180Z",
          "start_time": "2021-02-23T16:34:49.471318Z"
        }
      },
      "outputs": [],
      "source": [
        "results_path = Path('results', 'cnn_for_trading')\n",
        "if not results_path.exists():\n",
        "    results_path.mkdir(parents=True)"
      ]
    },
    {
      "cell_type": "markdown",
      "metadata": {},
      "source": [
        "## Quandl Wiki 주가 및 메타데이터 로드"
      ]
    },
    {
      "cell_type": "code",
      "execution_count": 9,
      "metadata": {
        "ExecuteTime": {
          "end_time": "2021-02-23T16:34:49.485541Z",
          "start_time": "2021-02-23T16:34:49.479542Z"
        }
      },
      "outputs": [],
      "source": [
        "adj_ohlcv = ['adj_open', 'adj_close', 'adj_low', 'adj_high', 'adj_volume']"
      ]
    },
    {
      "cell_type": "code",
      "execution_count": 10,
      "metadata": {
        "ExecuteTime": {
          "end_time": "2021-02-23T16:34:57.775897Z",
          "start_time": "2021-02-23T16:34:49.486697Z"
        }
      },
      "outputs": [],
      "source": [
        "with pd.HDFStore(DATA_STORE) as store:\n",
        "    prices = (store['quandl/wiki/prices']\n",
        "              .loc[idx[START:END, :], adj_ohlcv]\n",
        "              .rename(columns=lambda x: x.replace('adj_', ''))\n",
        "              .swaplevel()\n",
        "              .sort_index()\n",
        "             .dropna())\n",
        "    metadata = (store['us_equities/stocks'].loc[:, ['marketcap', 'sector']])\n",
        "ohlcv = prices.columns.tolist()"
      ]
    },
    {
      "cell_type": "code",
      "execution_count": 11,
      "metadata": {
        "ExecuteTime": {
          "end_time": "2021-02-23T16:34:57.847372Z",
          "start_time": "2021-02-23T16:34:57.776838Z"
        }
      },
      "outputs": [],
      "source": [
        "prices.volume /= 1e3\n",
        "prices.index.names = ['symbol', 'date']\n",
        "metadata.index.name = 'symbol'"
      ]
    },
    {
      "cell_type": "markdown",
      "metadata": {},
      "source": [
        "## 롤링 유니버스: 가장 많이 거래되는 주식 500개 선택"
      ]
    },
    {
      "cell_type": "code",
      "execution_count": 12,
      "metadata": {
        "ExecuteTime": {
          "end_time": "2021-02-23T16:35:00.884579Z",
          "start_time": "2021-02-23T16:34:57.848254Z"
        }
      },
      "outputs": [],
      "source": [
        "dollar_vol = prices.close.mul(prices.volume).unstack('symbol').sort_index()"
      ]
    },
    {
      "cell_type": "code",
      "execution_count": 13,
      "metadata": {
        "ExecuteTime": {
          "end_time": "2021-02-23T16:35:01.061217Z",
          "start_time": "2021-02-23T16:35:00.885466Z"
        }
      },
      "outputs": [],
      "source": [
        "years = sorted(np.unique([d.year for d in prices.index.get_level_values('date').unique()]))"
      ]
    },
    {
      "cell_type": "code",
      "execution_count": 14,
      "metadata": {
        "ExecuteTime": {
          "end_time": "2021-02-23T16:35:01.063974Z",
          "start_time": "2021-02-23T16:35:01.062285Z"
        }
      },
      "outputs": [],
      "source": [
        "train_window = 5 # years\n",
        "universe_size = 500"
      ]
    },
    {
      "cell_type": "code",
      "execution_count": 15,
      "metadata": {
        "ExecuteTime": {
          "end_time": "2021-02-23T16:41:52.520056Z",
          "start_time": "2021-02-23T16:35:01.064917Z"
        }
      },
      "outputs": [],
      "source": [
        "universe = []\n",
        "for i, year in enumerate(years[5:], 5):\n",
        "    start = str(years[i-5])\n",
        "    end = str(years[i])\n",
        "    most_traded = (dollar_vol.loc[start:end, :]\n",
        "                   .dropna(thresh=1000, axis=1)\n",
        "                   .median()\n",
        "                   .nlargest(universe_size)\n",
        "                   .index)\n",
        "    universe.append(prices.loc[idx[most_traded, start:end], :])\n",
        "universe = pd.concat(universe)"
      ]
    },
    {
      "cell_type": "code",
      "execution_count": 16,
      "metadata": {
        "ExecuteTime": {
          "end_time": "2021-02-23T16:41:52.882364Z",
          "start_time": "2021-02-23T16:41:52.520947Z"
        }
      },
      "outputs": [],
      "source": [
        "universe = universe.loc[~universe.index.duplicated()]"
      ]
    },
    {
      "cell_type": "code",
      "execution_count": 17,
      "metadata": {
        "ExecuteTime": {
          "end_time": "2021-02-23T16:41:52.930410Z",
          "start_time": "2021-02-23T16:41:52.883262Z"
        }
      },
      "outputs": [
        {
          "name": "stdout",
          "output_type": "stream",
          "text": [
            "<class 'pandas.core.frame.DataFrame'>\n",
            "MultiIndex: 2530228 entries, ('BRK_A', Timestamp('2000-01-03 00:00:00')) to ('BLL', Timestamp('2017-12-29 00:00:00'))\n",
            "Data columns (total 5 columns):\n",
            " #   Column  Non-Null Count    Dtype  \n",
            "---  ------  --------------    -----  \n",
            " 0   open    2530228 non-null  float64\n",
            " 1   close   2530228 non-null  float64\n",
            " 2   low     2530228 non-null  float64\n",
            " 3   high    2530228 non-null  float64\n",
            " 4   volume  2530228 non-null  float64\n",
            "dtypes: float64(5)\n",
            "memory usage: 106.4+ MB\n"
          ]
        }
      ],
      "source": [
        "universe.info(null_counts=True)"
      ]
    },
    {
      "cell_type": "code",
      "execution_count": 18,
      "metadata": {
        "ExecuteTime": {
          "end_time": "2021-02-23T16:41:52.985780Z",
          "start_time": "2021-02-23T16:41:52.931259Z"
        }
      },
      "outputs": [
        {
          "data": {
            "text/plain": [
              "count     735.000000\n",
              "mean     3442.487075\n",
              "std      1145.365643\n",
              "min      1043.000000\n",
              "25%      2368.000000\n",
              "50%      3792.000000\n",
              "75%      4527.000000\n",
              "max      4528.000000\n",
              "dtype: float64"
            ]
          },
          "execution_count": 18,
          "metadata": {},
          "output_type": "execute_result"
        }
      ],
      "source": [
        "universe.groupby('symbol').size().describe()"
      ]
    },
    {
      "cell_type": "code",
      "execution_count": 19,
      "metadata": {
        "ExecuteTime": {
          "end_time": "2021-02-23T16:41:53.060861Z",
          "start_time": "2021-02-23T16:41:52.986614Z"
        }
      },
      "outputs": [],
      "source": [
        "universe.to_hdf('data.h5', 'universe')"
      ]
    },
    {
      "cell_type": "markdown",
      "metadata": {},
      "source": [
        "## 기술 지표 요소 생성"
      ]
    },
    {
      "cell_type": "code",
      "execution_count": 20,
      "metadata": {
        "ExecuteTime": {
          "end_time": "2021-02-23T16:41:53.063455Z",
          "start_time": "2021-02-23T16:41:53.061684Z"
        }
      },
      "outputs": [],
      "source": [
        "T = list(range(6, 21))"
      ]
    },
    {
      "cell_type": "markdown",
      "metadata": {},
      "source": [
        "### 상대 강도 지수"
      ]
    },
    {
      "cell_type": "code",
      "execution_count": 21,
      "metadata": {
        "ExecuteTime": {
          "end_time": "2021-02-23T16:44:03.645054Z",
          "start_time": "2021-02-23T16:41:53.064605Z"
        }
      },
      "outputs": [],
      "source": [
        "for t in T:\n",
        "    universe[f'{t:02}_RSI'] = universe.groupby(level='symbol').close.apply(RSI, timeperiod=t)"
      ]
    },
    {
      "cell_type": "markdown",
      "metadata": {},
      "source": [
        "### 윌리엄스%R"
      ]
    },
    {
      "cell_type": "code",
      "execution_count": 22,
      "metadata": {
        "ExecuteTime": {
          "end_time": "2021-02-23T16:44:51.356647Z",
          "start_time": "2021-02-23T16:44:03.645883Z"
        }
      },
      "outputs": [],
      "source": [
        "for t in T:\n",
        "    universe[f'{t:02}_WILLR'] = (universe.groupby(level='symbol', group_keys=False)\n",
        "     .apply(lambda x: WILLR(x.high, x.low, x.close, timeperiod=t)))"
      ]
    },
    {
      "cell_type": "markdown",
      "metadata": {},
      "source": [
        "### 볼린저 밴드 계산"
      ]
    },
    {
      "cell_type": "code",
      "execution_count": 23,
      "metadata": {
        "ExecuteTime": {
          "end_time": "2021-02-23T16:44:51.359531Z",
          "start_time": "2021-02-23T16:44:51.357628Z"
        }
      },
      "outputs": [],
      "source": [
        "def compute_bb(close, timeperiod):\n",
        "    high, mid, low = BBANDS(close, timeperiod=timeperiod)\n",
        "    return pd.DataFrame({f'{timeperiod:02}_BBH': high, f'{timeperiod:02}_BBL': low}, index=close.index)"
      ]
    },
    {
      "cell_type": "code",
      "execution_count": 24,
      "metadata": {
        "ExecuteTime": {
          "end_time": "2021-02-23T16:47:38.075231Z",
          "start_time": "2021-02-23T16:44:51.361691Z"
        }
      },
      "outputs": [],
      "source": [
        "for t in T:\n",
        "    bbh, bbl = f'{t:02}_BBH', f'{t:02}_BBL'\n",
        "    universe = (universe.join(\n",
        "        universe.groupby(level='symbol').close.apply(compute_bb,\n",
        "                                                     timeperiod=t)))\n",
        "    universe[bbh] = universe[bbh].sub(universe.close).div(universe[bbh]).apply(np.log1p)\n",
        "    universe[bbl] = universe.close.sub(universe[bbl]).div(universe.close).apply(np.log1p)"
      ]
    },
    {
      "cell_type": "markdown",
      "metadata": {},
      "source": [
        "### 정규화된 평균 실제 범위"
      ]
    },
    {
      "cell_type": "code",
      "execution_count": 25,
      "metadata": {
        "ExecuteTime": {
          "end_time": "2021-02-23T16:48:36.081047Z",
          "start_time": "2021-02-23T16:47:38.076757Z"
        }
      },
      "outputs": [],
      "source": [
        "for t in T:\n",
        "    universe[f'{t:02}_NATR'] = universe.groupby(level='symbol', \n",
        "                                group_keys=False).apply(lambda x: \n",
        "                                                        NATR(x.high, x.low, x.close, timeperiod=t))"
      ]
    },
    {
      "cell_type": "markdown",
      "metadata": {},
      "source": [
        "### 백분율 가격 발진기"
      ]
    },
    {
      "cell_type": "code",
      "execution_count": 26,
      "metadata": {
        "ExecuteTime": {
          "end_time": "2021-02-23T16:51:07.164873Z",
          "start_time": "2021-02-23T16:48:36.081894Z"
        }
      },
      "outputs": [],
      "source": [
        "for t in T:\n",
        "    universe[f'{t:02}_PPO'] = universe.groupby(level='symbol').close.apply(PPO, fastperiod=t, matype=1)"
      ]
    },
    {
      "cell_type": "markdown",
      "metadata": {},
      "source": [
        "### 이동 평균 수렴/발산"
      ]
    },
    {
      "cell_type": "code",
      "execution_count": 27,
      "metadata": {
        "ExecuteTime": {
          "end_time": "2021-02-23T16:51:07.168458Z",
          "start_time": "2021-02-23T16:51:07.166104Z"
        }
      },
      "outputs": [],
      "source": [
        "def compute_macd(close, signalperiod):\n",
        "    macd = MACD(close, signalperiod=signalperiod)[0]\n",
        "    return (macd - np.mean(macd))/np.std(macd)"
      ]
    },
    {
      "cell_type": "code",
      "execution_count": 28,
      "metadata": {
        "ExecuteTime": {
          "end_time": "2021-02-23T16:53:45.147391Z",
          "start_time": "2021-02-23T16:51:07.169518Z"
        }
      },
      "outputs": [],
      "source": [
        "for t in T:\n",
        "    universe[f'{t:02}_MACD'] = (universe\n",
        "                  .groupby('symbol', group_keys=False)\n",
        "                  .close\n",
        "                  .apply(compute_macd, signalperiod=t))"
      ]
    },
    {
      "cell_type": "markdown",
      "metadata": {},
      "source": [
        "### 기세"
      ]
    },
    {
      "cell_type": "code",
      "execution_count": 29,
      "metadata": {
        "ExecuteTime": {
          "end_time": "2021-02-23T16:56:17.798498Z",
          "start_time": "2021-02-23T16:53:45.148305Z"
        }
      },
      "outputs": [],
      "source": [
        "for t in T:\n",
        "    universe[f'{t:02}_MOM'] = universe.groupby(level='symbol').close.apply(MOM, timeperiod=t)"
      ]
    },
    {
      "cell_type": "markdown",
      "metadata": {},
      "source": [
        "### 가중이동평균"
      ]
    },
    {
      "cell_type": "code",
      "execution_count": 30,
      "metadata": {
        "ExecuteTime": {
          "end_time": "2021-02-23T16:58:49.984209Z",
          "start_time": "2021-02-23T16:56:17.799393Z"
        }
      },
      "outputs": [],
      "source": [
        "for t in T:\n",
        "    universe[f'{t:02}_WMA'] = universe.groupby(level='symbol').close.apply(WMA, timeperiod=t)"
      ]
    },
    {
      "cell_type": "markdown",
      "metadata": {},
      "source": [
        "### 지수 이동 평균"
      ]
    },
    {
      "cell_type": "code",
      "execution_count": 31,
      "metadata": {
        "ExecuteTime": {
          "end_time": "2021-02-23T17:01:21.951204Z",
          "start_time": "2021-02-23T16:58:49.985306Z"
        }
      },
      "outputs": [],
      "source": [
        "for t in T:\n",
        "    universe[f'{t:02}_EMA'] = universe.groupby(level='symbol').close.apply(EMA, timeperiod=t)"
      ]
    },
    {
      "cell_type": "markdown",
      "metadata": {},
      "source": [
        "### 상품 채널 지수"
      ]
    },
    {
      "cell_type": "code",
      "execution_count": 32,
      "metadata": {
        "ExecuteTime": {
          "end_time": "2021-02-23T17:02:43.373600Z",
          "start_time": "2021-02-23T17:01:21.952111Z"
        }
      },
      "outputs": [],
      "source": [
        "for t in T:    \n",
        "    universe[f'{t:02}_CCI'] = (universe.groupby(level='symbol', group_keys=False)\n",
        "     .apply(lambda x: CCI(x.high, x.low, x.close, timeperiod=t)))"
      ]
    },
    {
      "cell_type": "markdown",
      "metadata": {},
      "source": [
        "### Chande 모멘텀 발진기"
      ]
    },
    {
      "cell_type": "code",
      "execution_count": 33,
      "metadata": {
        "ExecuteTime": {
          "end_time": "2021-02-23T17:05:18.290515Z",
          "start_time": "2021-02-23T17:02:43.374726Z"
        }
      },
      "outputs": [],
      "source": [
        "for t in T:\n",
        "    universe[f'{t:02}_CMO'] = universe.groupby(level='symbol').close.apply(CMO, timeperiod=t)"
      ]
    },
    {
      "cell_type": "markdown",
      "metadata": {
        "ExecuteTime": {
          "end_time": "2020-03-20T02:28:43.696896Z",
          "start_time": "2020-03-20T02:28:43.694227Z"
        }
      },
      "source": [
        "### 변화율"
      ]
    },
    {
      "cell_type": "markdown",
      "metadata": {},
      "source": [
        "변화율은 일정 기간 동안의 가격 변화 속도를 나타내는 기술 지표입니다."
      ]
    },
    {
      "cell_type": "code",
      "execution_count": 34,
      "metadata": {
        "ExecuteTime": {
          "end_time": "2021-02-23T17:07:35.840629Z",
          "start_time": "2021-02-23T17:05:18.291413Z"
        }
      },
      "outputs": [],
      "source": [
        "for t in T:\n",
        "    universe[f'{t:02}_ROC'] = universe.groupby(level='symbol').close.apply(ROC, timeperiod=t)"
      ]
    },
    {
      "cell_type": "markdown",
      "metadata": {},
      "source": [
        "### Chaikin A/D 발진기"
      ]
    },
    {
      "cell_type": "code",
      "execution_count": 35,
      "metadata": {
        "ExecuteTime": {
          "end_time": "2021-02-23T17:08:58.366782Z",
          "start_time": "2021-02-23T17:07:35.841517Z"
        }
      },
      "outputs": [],
      "source": [
        "for t in T:\n",
        "    universe[f'{t:02}_ADOSC'] = (universe.groupby(level='symbol', group_keys=False)\n",
        "     .apply(lambda x: ADOSC(x.high, x.low, x.close, x.volume, fastperiod=t-3, slowperiod=4+t)))"
      ]
    },
    {
      "cell_type": "markdown",
      "metadata": {},
      "source": [
        "### 평균 방향 이동 지수"
      ]
    },
    {
      "cell_type": "code",
      "execution_count": 36,
      "metadata": {
        "ExecuteTime": {
          "end_time": "2021-02-23T17:10:24.337030Z",
          "start_time": "2021-02-23T17:08:58.367644Z"
        }
      },
      "outputs": [],
      "source": [
        "for t in T:\n",
        "    universe[f'{t:02}_ADX'] = universe.groupby(level='symbol', \n",
        "                                group_keys=False).apply(lambda x: \n",
        "                                                        ADX(x.high, x.low, x.close, timeperiod=t))"
      ]
    },
    {
      "cell_type": "code",
      "execution_count": 37,
      "metadata": {
        "ExecuteTime": {
          "end_time": "2021-02-23T17:10:29.716720Z",
          "start_time": "2021-02-23T17:10:24.337907Z"
        },
        "scrolled": false
      },
      "outputs": [],
      "source": [
        "universe.drop(ohlcv, axis=1).to_hdf('data.h5', 'features')"
      ]
    },
    {
      "cell_type": "markdown",
      "metadata": {},
      "source": [
        "## 과거 수익률 계산"
      ]
    },
    {
      "cell_type": "markdown",
      "metadata": {},
      "source": [
        "### 역사적 수익률"
      ]
    },
    {
      "cell_type": "code",
      "execution_count": 38,
      "metadata": {
        "ExecuteTime": {
          "end_time": "2021-02-23T17:10:30.028914Z",
          "start_time": "2021-02-23T17:10:29.717589Z"
        }
      },
      "outputs": [],
      "source": [
        "by_sym = universe.groupby(level='symbol').close\n",
        "for t in [1,5]:\n",
        "    universe[f'r{t:02}'] = by_sym.pct_change(t)"
      ]
    },
    {
      "cell_type": "markdown",
      "metadata": {},
      "source": [
        "### 이상값 제거"
      ]
    },
    {
      "cell_type": "code",
      "execution_count": 39,
      "metadata": {
        "ExecuteTime": {
          "end_time": "2021-02-23T17:10:31.555073Z",
          "start_time": "2021-02-23T17:10:30.029775Z"
        }
      },
      "outputs": [
        {
          "data": {
            "text/html": [
              "<div>\n",
              "<style scoped>\n",
              "    .dataframe tbody tr th:only-of-type {\n",
              "        vertical-align: middle;\n",
              "    }\n",
              "\n",
              "    .dataframe tbody tr th {\n",
              "        vertical-align: top;\n",
              "    }\n",
              "\n",
              "    .dataframe thead th {\n",
              "        text-align: right;\n",
              "    }\n",
              "</style>\n",
              "<table border=\"1\" class=\"dataframe\">\n",
              "  <thead>\n",
              "    <tr style=\"text-align: right;\">\n",
              "      <th></th>\n",
              "      <th>r01</th>\n",
              "      <th>r05</th>\n",
              "    </tr>\n",
              "  </thead>\n",
              "  <tbody>\n",
              "    <tr>\n",
              "      <th>count</th>\n",
              "      <td>2.529493e+06</td>\n",
              "      <td>2.526553e+06</td>\n",
              "    </tr>\n",
              "    <tr>\n",
              "      <th>mean</th>\n",
              "      <td>6.710840e-04</td>\n",
              "      <td>3.293540e-03</td>\n",
              "    </tr>\n",
              "    <tr>\n",
              "      <th>std</th>\n",
              "      <td>2.875355e-02</td>\n",
              "      <td>6.344951e-02</td>\n",
              "    </tr>\n",
              "    <tr>\n",
              "      <th>min</th>\n",
              "      <td>-9.718670e-01</td>\n",
              "      <td>-9.795396e-01</td>\n",
              "    </tr>\n",
              "    <tr>\n",
              "      <th>25%</th>\n",
              "      <td>-1.034141e-02</td>\n",
              "      <td>-2.246575e-02</td>\n",
              "    </tr>\n",
              "    <tr>\n",
              "      <th>50%</th>\n",
              "      <td>3.236246e-04</td>\n",
              "      <td>2.921130e-03</td>\n",
              "    </tr>\n",
              "    <tr>\n",
              "      <th>75%</th>\n",
              "      <td>1.122661e-02</td>\n",
              "      <td>2.811951e-02</td>\n",
              "    </tr>\n",
              "    <tr>\n",
              "      <th>max</th>\n",
              "      <td>1.216425e+01</td>\n",
              "      <td>1.252657e+01</td>\n",
              "    </tr>\n",
              "  </tbody>\n",
              "</table>\n",
              "</div>"
            ],
            "text/plain": [
              "                r01           r05\n",
              "count  2.529493e+06  2.526553e+06\n",
              "mean   6.710840e-04  3.293540e-03\n",
              "std    2.875355e-02  6.344951e-02\n",
              "min   -9.718670e-01 -9.795396e-01\n",
              "25%   -1.034141e-02 -2.246575e-02\n",
              "50%    3.236246e-04  2.921130e-03\n",
              "75%    1.122661e-02  2.811951e-02\n",
              "max    1.216425e+01  1.252657e+01"
            ]
          },
          "execution_count": 39,
          "metadata": {},
          "output_type": "execute_result"
        }
      ],
      "source": [
        "universe[[f'r{t:02}' for t in [1, 5]]].describe()"
      ]
    },
    {
      "cell_type": "code",
      "execution_count": 40,
      "metadata": {
        "ExecuteTime": {
          "end_time": "2021-02-23T17:10:31.561487Z",
          "start_time": "2021-02-23T17:10:31.555915Z"
        }
      },
      "outputs": [
        {
          "data": {
            "text/plain": [
              "11"
            ]
          },
          "execution_count": 40,
          "metadata": {},
          "output_type": "execute_result"
        }
      ],
      "source": [
        "outliers = universe[universe.r01>1].index.get_level_values('symbol').unique()\n",
        "len(outliers)"
      ]
    },
    {
      "cell_type": "code",
      "execution_count": 41,
      "metadata": {
        "ExecuteTime": {
          "end_time": "2021-02-23T17:10:39.622170Z",
          "start_time": "2021-02-23T17:10:31.562450Z"
        }
      },
      "outputs": [],
      "source": [
        "universe = universe.drop(outliers, level='symbol')"
      ]
    },
    {
      "cell_type": "markdown",
      "metadata": {},
      "source": [
        "### 과거 수익률 분위수"
      ]
    },
    {
      "cell_type": "code",
      "execution_count": 42,
      "metadata": {
        "ExecuteTime": {
          "end_time": "2021-02-23T17:11:04.012013Z",
          "start_time": "2021-02-23T17:10:39.623047Z"
        }
      },
      "outputs": [],
      "source": [
        "for t in [1, 5]:\n",
        "    universe[f'r{t:02}dec'] = (universe[f'r{t:02}'].groupby(level='date')\n",
        "             .apply(lambda x: pd.qcut(x, q=10, labels=False, duplicates='drop')))"
      ]
    },
    {
      "cell_type": "markdown",
      "metadata": {},
      "source": [
        "## 롤링 팩터 베타"
      ]
    },
    {
      "cell_type": "markdown",
      "metadata": {},
      "source": [
        "또한 5가지 Fama-French 위험 요소를 사용합니다(Fama and French, 2015; 4장 금융 특성 엔지니어링 – 알파 요소 조사 방법 참조). 이는 주식 수익률에 영향을 미치는 것으로 지속적으로 입증된 요인에 대한 주식 수익률의 민감도를 반영합니다.",
        "\n",
        "우리는 기본 동인을 반영하도록 설계된 포트폴리오 수익률에 대한 주식 일일 수익률의 롤링 OLS 회귀 계수를 계산하여 이러한 요소를 포착합니다.",
        "- **주식 리스크 프리미엄**: 미국 주식의 가치 가중 수익률에서 미국 1개월 수익률을 차감",
        "- **재무부 청구율**",
        "- **규모(SMB)**: 소형(시가총액 기준)으로 분류된 주식에서 대형주를 뺀 수익률",
        "- **가치(HML)**: 장부가치가 높은 주식에서 가치가 낮은 주식을 뺀 수익률",
        "- **투자(CMA)**: 보수적 투자 지출을 한 기업의 수익률 차이에서 공격적 지출을 한 기업을 뺀 값입니다.",
        "- **수익성(RMW)**: 마찬가지로 견고한 수익성을 가진 주식의 수익률 차이에서 약한 지표를 가진 주식의 수익률 차이를 뺍니다.",
        "\n"
      ]
    },
    {
      "cell_type": "code",
      "execution_count": 43,
      "metadata": {
        "ExecuteTime": {
          "end_time": "2021-02-23T17:11:05.424170Z",
          "start_time": "2021-02-23T17:11:04.012880Z"
        }
      },
      "outputs": [],
      "source": [
        "factor_data = (web.DataReader('F-F_Research_Data_5_Factors_2x3_daily', 'famafrench', \n",
        "                              start=START)[0].rename(columns={'Mkt-RF': 'Market'}))\n",
        "factor_data.index.names = ['date']"
      ]
    },
    {
      "cell_type": "code",
      "execution_count": 44,
      "metadata": {
        "ExecuteTime": {
          "end_time": "2021-02-23T17:11:05.432840Z",
          "start_time": "2021-02-23T17:11:05.425132Z"
        }
      },
      "outputs": [
        {
          "name": "stdout",
          "output_type": "stream",
          "text": [
            "<class 'pandas.core.frame.DataFrame'>\n",
            "DatetimeIndex: 5284 entries, 2000-01-03 to 2020-12-31\n",
            "Data columns (total 6 columns):\n",
            " #   Column  Non-Null Count  Dtype  \n",
            "---  ------  --------------  -----  \n",
            " 0   Market  5284 non-null   float64\n",
            " 1   SMB     5284 non-null   float64\n",
            " 2   HML     5284 non-null   float64\n",
            " 3   RMW     5284 non-null   float64\n",
            " 4   CMA     5284 non-null   float64\n",
            " 5   RF      5284 non-null   float64\n",
            "dtypes: float64(6)\n",
            "memory usage: 289.0 KB\n"
          ]
        }
      ],
      "source": [
        "factor_data.info()"
      ]
    },
    {
      "cell_type": "code",
      "execution_count": 45,
      "metadata": {
        "ExecuteTime": {
          "end_time": "2021-02-23T17:11:05.453552Z",
          "start_time": "2021-02-23T17:11:05.433756Z"
        }
      },
      "outputs": [
        {
          "data": {
            "text/plain": [
              "15"
            ]
          },
          "execution_count": 45,
          "metadata": {},
          "output_type": "execute_result"
        }
      ],
      "source": [
        "windows = list(range(15, 90, 5))\n",
        "len(windows)"
      ]
    },
    {
      "cell_type": "markdown",
      "metadata": {},
      "source": [
        "다음으로, `statsmodels`' `RollingOLS()`을 적용하여 15일에서 90일까지 다양한 길이의 기간 동안 회귀를 실행합니다. `.fit()` 메서드에 `params_only` 매개변수를 설정하여 계산 속도를 높이고 적합한 Factor_model의 `.params` 속성을 사용하여 계수를 캡처합니다."
      ]
    },
    {
      "cell_type": "code",
      "execution_count": 46,
      "metadata": {
        "ExecuteTime": {
          "end_time": "2021-02-23T17:29:30.598816Z",
          "start_time": "2021-02-23T17:11:05.456787Z"
        },
        "scrolled": false
      },
      "outputs": [
        {
          "name": "stdout",
          "output_type": "stream",
          "text": [
            "15\n",
            "20\n",
            "25\n",
            "30\n",
            "35\n",
            "40\n",
            "45\n",
            "50\n",
            "55\n",
            "60\n",
            "65\n",
            "70\n",
            "75\n",
            "80\n",
            "85\n"
          ]
        }
      ],
      "source": [
        "t = 1\n",
        "ret = f'r{t:02}'\n",
        "factors = ['Market', 'SMB', 'HML', 'RMW', 'CMA']\n",
        "windows = list(range(15, 90, 5))\n",
        "for window in windows:\n",
        "    print(window)\n",
        "    betas = []\n",
        "    for symbol, data in universe.groupby(level='symbol'):\n",
        "        model_data = data[[ret]].merge(factor_data, on='date').dropna()\n",
        "        model_data[ret] -= model_data.RF\n",
        "\n",
        "        rolling_ols = RollingOLS(endog=model_data[ret], \n",
        "                                 exog=sm.add_constant(model_data[factors]), window=window)\n",
        "        factor_model = rolling_ols.fit(params_only=True).params.drop('const', axis=1)\n",
        "        result = factor_model.assign(symbol=symbol).set_index('symbol', append=True)\n",
        "        betas.append(result)\n",
        "    betas = pd.concat(betas).rename(columns=lambda x: f'{window:02}_{x}')\n",
        "    universe = universe.join(betas)"
      ]
    },
    {
      "cell_type": "markdown",
      "metadata": {},
      "source": [
        "## 전방 수익 계산"
      ]
    },
    {
      "cell_type": "code",
      "execution_count": 47,
      "metadata": {
        "ExecuteTime": {
          "end_time": "2021-02-23T17:29:31.294116Z",
          "start_time": "2021-02-23T17:29:30.599863Z"
        }
      },
      "outputs": [],
      "source": [
        "for t in [1, 5]:\n",
        "    universe[f'r{t:02}_fwd'] = universe.groupby(level='symbol')[f'r{t:02}'].shift(-t)\n",
        "    universe[f'r{t:02}dec_fwd'] = universe.groupby(level='symbol')[f'r{t:02}dec'].shift(-t)"
      ]
    },
    {
      "cell_type": "markdown",
      "metadata": {},
      "source": [
        "## 모델 데이터 저장"
      ]
    },
    {
      "cell_type": "code",
      "execution_count": 48,
      "metadata": {
        "ExecuteTime": {
          "end_time": "2021-02-23T17:29:36.009200Z",
          "start_time": "2021-02-23T17:29:31.295092Z"
        }
      },
      "outputs": [],
      "source": [
        "universe = universe.drop(ohlcv, axis=1)"
      ]
    },
    {
      "cell_type": "code",
      "execution_count": 49,
      "metadata": {
        "ExecuteTime": {
          "end_time": "2021-02-23T17:29:36.058817Z",
          "start_time": "2021-02-23T17:29:36.010258Z"
        },
        "scrolled": false
      },
      "outputs": [
        {
          "name": "stdout",
          "output_type": "stream",
          "text": [
            "<class 'pandas.core.frame.DataFrame'>\n",
            "MultiIndex: 2499265 entries, ('BRK_A', Timestamp('2000-01-03 00:00:00')) to ('BLL', Timestamp('2017-12-29 00:00:00'))\n",
            "Columns: 308 entries, 06_RSI to r05dec_fwd\n",
            "dtypes: float64(308)\n",
            "memory usage: 5.7+ GB\n"
          ]
        }
      ],
      "source": [
        "universe.info(null_counts=True)"
      ]
    },
    {
      "cell_type": "code",
      "execution_count": 50,
      "metadata": {
        "ExecuteTime": {
          "end_time": "2021-02-23T17:29:36.062384Z",
          "start_time": "2021-02-23T17:29:36.060100Z"
        }
      },
      "outputs": [],
      "source": [
        "drop_cols = ['r01', 'r01dec', 'r05',  'r05dec']"
      ]
    },
    {
      "cell_type": "code",
      "execution_count": 51,
      "metadata": {
        "ExecuteTime": {
          "end_time": "2021-02-23T17:29:36.088119Z",
          "start_time": "2021-02-23T17:29:36.063595Z"
        }
      },
      "outputs": [],
      "source": [
        "outcomes = universe.filter(like='_fwd').columns"
      ]
    },
    {
      "cell_type": "code",
      "execution_count": 52,
      "metadata": {
        "ExecuteTime": {
          "end_time": "2021-02-23T17:29:54.934584Z",
          "start_time": "2021-02-23T17:29:36.089191Z"
        }
      },
      "outputs": [],
      "source": [
        "universe = universe.sort_index()\n",
        "with pd.HDFStore('data.h5') as store:\n",
        "    store.put('features', universe.drop(drop_cols, axis=1).drop(outcomes, axis=1).loc[idx[:, '2001':], :])\n",
        "    store.put('targets', universe.loc[idx[:, '2001':], outcomes])"
      ]
    }
  ],
  "metadata": {
    "kernelspec": {
      "display_name": "Python 3",
      "language": "python",
      "name": "python3"
    },
    "language_info": {
      "codemirror_mode": {
        "name": "ipython",
        "version": 3
      },
      "file_extension": ".py",
      "mimetype": "text/x-python",
      "name": "python",
      "nbconvert_exporter": "python",
      "pygments_lexer": "ipython3",
      "version": "3.8.5"
    },
    "toc": {
      "base_numbering": 1,
      "nav_menu": {},
      "number_sections": true,
      "sideBar": true,
      "skip_h1_title": true,
      "title_cell": "Table of Contents",
      "title_sidebar": "Contents",
      "toc_cell": false,
      "toc_position": {
        "height": "calc(100% - 180px)",
        "left": "10px",
        "top": "150px",
        "width": "341.391px"
      },
      "toc_section_display": true,
      "toc_window_display": true
    }
  },
  "nbformat": 4,
  "nbformat_minor": 2
}