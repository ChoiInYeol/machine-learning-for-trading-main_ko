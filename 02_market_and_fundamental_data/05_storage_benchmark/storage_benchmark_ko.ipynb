{
  "cells": [
    {
      "cell_type": "markdown",
      "metadata": {},
      "source": [
        "# 스토리지 벤치마크"
      ]
    },
    {
      "cell_type": "markdown",
      "metadata": {},
      "source": [
        "이 노트북에서는 다음 저장소 형식을 비교해 보겠습니다.",
        "- CSV: 쉼표로 구분된 표준 일반 텍스트 파일 형식입니다.",
        "- HDF5: 국립 슈퍼컴퓨팅 애플리케이션 센터에서 처음 개발된 계층적 데이터 형식입니다. 이는 PyTables 라이브러리를 사용하여 Pandas에서 사용할 수 있는 숫자 데이터를 위한 빠르고 확장 가능한 저장 형식입니다.",
        "- Parquet: 효율적인 데이터 압축 및 인코딩을 제공하고 Cloudera와 Twitter에서 개발한 바이너리, 열 형식 스토리지 형식인 Apache Hadoop 에코시스템의 일부입니다. 팬더의 원저자인 Wes McKinney가 이끄는 `pyarrow` 라이브러리를 통해 팬더에 사용할 수 있습니다.",
        "\n",
        "이 노트북은 숫자나 텍스트 데이터 또는 둘 다를 포함하도록 구성할 수 있는 테스트 DataFrame을 사용하여 이전 라이브러리의 성능을 비교합니다. HDF5 라이브러리의 경우 고정 형식과 테이블 형식을 모두 테스트합니다. 테이블 형식은 쿼리를 허용하고 추가될 수 있습니다.",
        "\n",
        "## 용법",
        "\n",
        "책에 사용된 차트를 다시 생성하려면 다음과 같이 `data_type`에 대한 다른 설정과 `generate_test_data`에 대한 인수를 사용하여 '결과 저장' 섹션까지 이 노트북을 두 번 실행해야 합니다.",
        "1. `data_type='Numeric`: `numerical_cols=2000`, `text_cols=0`(기본값)",
        "2. __자리 표시자_0__: __자리 표시자_1__, __자리 표시자_2__"
      ]
    },
    {
      "cell_type": "markdown",
      "metadata": {},
      "source": [
        "## 가져오기 및 설정"
      ]
    },
    {
      "cell_type": "code",
      "execution_count": 1,
      "metadata": {
        "ExecuteTime": {
          "end_time": "2020-06-17T01:35:27.316285Z",
          "start_time": "2020-06-17T01:35:27.312369Z"
        }
      },
      "outputs": [],
      "source": [
        "import warnings\n",
        "warnings.filterwarnings('ignore')"
      ]
    },
    {
      "cell_type": "code",
      "execution_count": 2,
      "metadata": {
        "ExecuteTime": {
          "end_time": "2020-06-17T01:35:28.969546Z",
          "start_time": "2020-06-17T01:35:27.319259Z"
        },
        "pycharm": {
          "is_executing": true
        }
      },
      "outputs": [],
      "source": [
        "from pathlib import Path\n",
        "import pandas as pd\n",
        "import numpy as np\n",
        "import matplotlib.pyplot as plt\n",
        "import seaborn as sns\n",
        "import random\n",
        "import string"
      ]
    },
    {
      "cell_type": "code",
      "execution_count": 3,
      "metadata": {
        "ExecuteTime": {
          "end_time": "2020-06-17T01:35:28.996443Z",
          "start_time": "2020-06-17T01:35:28.990967Z"
        },
        "pycharm": {
          "is_executing": true
        }
      },
      "outputs": [],
      "source": [
        "sns.set_style('whitegrid')"
      ]
    },
    {
      "cell_type": "code",
      "execution_count": 4,
      "metadata": {
        "ExecuteTime": {
          "end_time": "2020-06-17T01:35:29.007566Z",
          "start_time": "2020-06-17T01:35:29.000677Z"
        },
        "pycharm": {
          "is_executing": true
        }
      },
      "outputs": [],
      "source": [
        "results = {}"
      ]
    },
    {
      "cell_type": "markdown",
      "metadata": {},
      "source": [
        "## 테스트 데이터 생성"
      ]
    },
    {
      "cell_type": "markdown",
      "metadata": {},
      "source": [
        "숫자나 텍스트 데이터 또는 둘 다를 포함하도록 구성할 수 있는 `DataFrame` 테스트입니다. HDF5 라이브러리의 경우 고정 형식과 테이블 형식을 모두 테스트합니다."
      ]
    },
    {
      "cell_type": "code",
      "execution_count": 5,
      "metadata": {
        "ExecuteTime": {
          "end_time": "2020-06-17T01:35:29.019361Z",
          "start_time": "2020-06-17T01:35:29.012349Z"
        },
        "pycharm": {
          "is_executing": true
        }
      },
      "outputs": [],
      "source": [
        "def generate_test_data(nrows=100000, numerical_cols=2000, text_cols=0, text_length=10):\n",
        "    s = \"\".join([random.choice(string.ascii_letters)\n",
        "                 for _ in range(text_length)])\n",
        "    data = pd.concat([pd.DataFrame(np.random.random(size=(nrows, numerical_cols))),\n",
        "                      pd.DataFrame(np.full(shape=(nrows, text_cols), fill_value=s))],\n",
        "                     axis=1, ignore_index=True)\n",
        "    data.columns = [str(i) for i in data.columns]\n",
        "    return data"
      ]
    },
    {
      "cell_type": "code",
      "execution_count": 6,
      "metadata": {
        "ExecuteTime": {
          "end_time": "2020-06-17T01:35:29.041894Z",
          "start_time": "2020-06-17T01:35:29.024486Z"
        },
        "pycharm": {
          "is_executing": true
        }
      },
      "outputs": [],
      "source": [
        "data_type = 'Numeric'"
      ]
    },
    {
      "cell_type": "code",
      "execution_count": 7,
      "metadata": {
        "ExecuteTime": {
          "end_time": "2020-06-17T01:36:22.452175Z",
          "start_time": "2020-06-17T01:35:29.057271Z"
        },
        "pycharm": {
          "is_executing": true
        }
      },
      "outputs": [
        {
          "name": "stdout",
          "output_type": "stream",
          "text": [
            "<class 'pandas.core.frame.DataFrame'>\n",
            "RangeIndex: 100000 entries, 0 to 99999\n",
            "Columns: 2000 entries, 0 to 1999\n",
            "dtypes: float64(1000), object(1000)\n",
            "memory usage: 1.5+ GB\n"
          ]
        }
      ],
      "source": [
        "df = generate_test_data(numerical_cols=1000, text_cols=1000)\n",
        "df.info()"
      ]
    },
    {
      "cell_type": "markdown",
      "metadata": {},
      "source": [
        "## 쪽매 세공"
      ]
    },
    {
      "cell_type": "markdown",
      "metadata": {},
      "source": [
        "### 크기"
      ]
    },
    {
      "cell_type": "code",
      "execution_count": 8,
      "metadata": {
        "ExecuteTime": {
          "end_time": "2020-06-17T01:36:22.456279Z",
          "start_time": "2020-06-17T01:36:22.453955Z"
        },
        "pycharm": {
          "is_executing": true
        }
      },
      "outputs": [],
      "source": [
        "parquet_file = Path('test.parquet')"
      ]
    },
    {
      "cell_type": "code",
      "execution_count": 9,
      "metadata": {
        "ExecuteTime": {
          "end_time": "2020-06-17T01:37:07.069924Z",
          "start_time": "2020-06-17T01:36:22.457639Z"
        },
        "pycharm": {
          "is_executing": true
        }
      },
      "outputs": [],
      "source": [
        "df.to_parquet(parquet_file)\n",
        "size = parquet_file.stat().st_size"
      ]
    },
    {
      "cell_type": "markdown",
      "metadata": {},
      "source": [
        "### 읽다"
      ]
    },
    {
      "cell_type": "code",
      "execution_count": 10,
      "metadata": {
        "ExecuteTime": {
          "end_time": "2020-06-17T01:37:48.957149Z",
          "start_time": "2020-06-17T01:37:07.076984Z"
        },
        "pycharm": {
          "is_executing": true
        }
      },
      "outputs": [
        {
          "name": "stdout",
          "output_type": "stream",
          "text": [
            "4.86 s ± 134 ms per loop (mean ± std. dev. of 7 runs, 1 loop each)\n"
          ]
        },
        {
          "data": {
            "text/plain": [
              "<TimeitResult : 4.86 s ± 134 ms per loop (mean ± std. dev. of 7 runs, 1 loop each)>"
            ]
          },
          "execution_count": 10,
          "metadata": {},
          "output_type": "execute_result"
        }
      ],
      "source": [
        "%%timeit -o\n",
        "df = pd.read_parquet(parquet_file)"
      ]
    },
    {
      "cell_type": "code",
      "execution_count": 11,
      "metadata": {
        "ExecuteTime": {
          "end_time": "2020-06-17T01:37:48.961665Z",
          "start_time": "2020-06-17T01:37:48.958800Z"
        },
        "pycharm": {
          "is_executing": true
        },
        "scrolled": true
      },
      "outputs": [],
      "source": [
        "read = _"
      ]
    },
    {
      "cell_type": "code",
      "execution_count": 12,
      "metadata": {
        "ExecuteTime": {
          "end_time": "2020-06-17T01:37:49.188464Z",
          "start_time": "2020-06-17T01:37:48.963287Z"
        },
        "pycharm": {
          "is_executing": true
        }
      },
      "outputs": [],
      "source": [
        "parquet_file.unlink()"
      ]
    },
    {
      "cell_type": "markdown",
      "metadata": {},
      "source": [
        "### 쓰다"
      ]
    },
    {
      "cell_type": "code",
      "execution_count": 13,
      "metadata": {
        "ExecuteTime": {
          "end_time": "2020-06-17T01:43:39.425369Z",
          "start_time": "2020-06-17T01:37:49.190219Z"
        },
        "pycharm": {
          "is_executing": true
        }
      },
      "outputs": [
        {
          "name": "stdout",
          "output_type": "stream",
          "text": [
            "43.5 s ± 1.13 s per loop (mean ± std. dev. of 7 runs, 1 loop each)\n"
          ]
        },
        {
          "data": {
            "text/plain": [
              "<TimeitResult : 43.5 s ± 1.13 s per loop (mean ± std. dev. of 7 runs, 1 loop each)>"
            ]
          },
          "execution_count": 13,
          "metadata": {},
          "output_type": "execute_result"
        }
      ],
      "source": [
        "%%timeit -o\n",
        "df.to_parquet(parquet_file)\n",
        "parquet_file.unlink()"
      ]
    },
    {
      "cell_type": "code",
      "execution_count": 14,
      "metadata": {
        "ExecuteTime": {
          "end_time": "2020-06-17T01:43:39.428982Z",
          "start_time": "2020-06-17T01:43:39.426799Z"
        },
        "pycharm": {
          "is_executing": true
        }
      },
      "outputs": [],
      "source": [
        "write = _"
      ]
    },
    {
      "cell_type": "markdown",
      "metadata": {},
      "source": [
        "### 결과"
      ]
    },
    {
      "cell_type": "code",
      "execution_count": 15,
      "metadata": {
        "ExecuteTime": {
          "end_time": "2020-06-17T01:43:39.439864Z",
          "start_time": "2020-06-17T01:43:39.430333Z"
        },
        "pycharm": {
          "is_executing": true
        }
      },
      "outputs": [],
      "source": [
        "results['Parquet'] = {'read': np.mean(read.all_runs), 'write': np.mean(write.all_runs), 'size': size}"
      ]
    },
    {
      "cell_type": "markdown",
      "metadata": {},
      "source": [
        "## HDF5"
      ]
    },
    {
      "cell_type": "code",
      "execution_count": 16,
      "metadata": {
        "ExecuteTime": {
          "end_time": "2020-06-17T01:43:39.448675Z",
          "start_time": "2020-06-17T01:43:39.441367Z"
        },
        "pycharm": {
          "is_executing": true
        }
      },
      "outputs": [],
      "source": [
        "test_store = Path('index.h5')"
      ]
    },
    {
      "cell_type": "markdown",
      "metadata": {},
      "source": [
        "### 고정 형식"
      ]
    },
    {
      "cell_type": "markdown",
      "metadata": {},
      "source": [
        "#### 크기"
      ]
    },
    {
      "cell_type": "code",
      "execution_count": 17,
      "metadata": {
        "ExecuteTime": {
          "end_time": "2020-06-17T01:44:50.784125Z",
          "start_time": "2020-06-17T01:43:39.450005Z"
        },
        "pycharm": {
          "is_executing": true
        }
      },
      "outputs": [],
      "source": [
        "with pd.HDFStore(test_store) as store:\n",
        "    store.put('file', df)\n",
        "size = test_store.stat().st_size"
      ]
    },
    {
      "cell_type": "markdown",
      "metadata": {},
      "source": [
        "#### 읽다"
      ]
    },
    {
      "cell_type": "code",
      "execution_count": 18,
      "metadata": {
        "ExecuteTime": {
          "end_time": "2020-06-17T02:01:51.204424Z",
          "start_time": "2020-06-17T01:44:50.785606Z"
        },
        "pycharm": {
          "is_executing": true
        }
      },
      "outputs": [
        {
          "name": "stdout",
          "output_type": "stream",
          "text": [
            "2min 7s ± 2.73 s per loop (mean ± std. dev. of 7 runs, 1 loop each)\n"
          ]
        },
        {
          "data": {
            "text/plain": [
              "<TimeitResult : 2min 7s ± 2.73 s per loop (mean ± std. dev. of 7 runs, 1 loop each)>"
            ]
          },
          "execution_count": 18,
          "metadata": {},
          "output_type": "execute_result"
        }
      ],
      "source": [
        "%%timeit -o\n",
        "with pd.HDFStore(test_store) as store:\n",
        "    store.get('file')"
      ]
    },
    {
      "cell_type": "code",
      "execution_count": 19,
      "metadata": {
        "ExecuteTime": {
          "end_time": "2020-06-17T02:01:51.211964Z",
          "start_time": "2020-06-17T02:01:51.208706Z"
        },
        "pycharm": {
          "is_executing": true
        }
      },
      "outputs": [],
      "source": [
        "read = _"
      ]
    },
    {
      "cell_type": "code",
      "execution_count": 20,
      "metadata": {
        "ExecuteTime": {
          "end_time": "2020-06-17T02:01:51.620046Z",
          "start_time": "2020-06-17T02:01:51.216720Z"
        },
        "pycharm": {
          "is_executing": true
        }
      },
      "outputs": [],
      "source": [
        "test_store.unlink()"
      ]
    },
    {
      "cell_type": "markdown",
      "metadata": {},
      "source": [
        "#### 쓰다"
      ]
    },
    {
      "cell_type": "code",
      "execution_count": 21,
      "metadata": {
        "ExecuteTime": {
          "end_time": "2020-06-17T02:11:19.164517Z",
          "start_time": "2020-06-17T02:01:51.627442Z"
        },
        "pycharm": {
          "is_executing": true
        }
      },
      "outputs": [
        {
          "name": "stdout",
          "output_type": "stream",
          "text": [
            "1min 10s ± 1.47 s per loop (mean ± std. dev. of 7 runs, 1 loop each)\n"
          ]
        },
        {
          "data": {
            "text/plain": [
              "<TimeitResult : 1min 10s ± 1.47 s per loop (mean ± std. dev. of 7 runs, 1 loop each)>"
            ]
          },
          "execution_count": 21,
          "metadata": {},
          "output_type": "execute_result"
        }
      ],
      "source": [
        "%%timeit -o\n",
        "with pd.HDFStore(test_store) as store:\n",
        "    store.put('file', df)\n",
        "test_store.unlink()"
      ]
    },
    {
      "cell_type": "code",
      "execution_count": 22,
      "metadata": {
        "ExecuteTime": {
          "end_time": "2020-06-17T02:11:19.168656Z",
          "start_time": "2020-06-17T02:11:19.166433Z"
        },
        "pycharm": {
          "is_executing": true
        }
      },
      "outputs": [],
      "source": [
        "write = _"
      ]
    },
    {
      "cell_type": "markdown",
      "metadata": {},
      "source": [
        "#### 결과"
      ]
    },
    {
      "cell_type": "code",
      "execution_count": 23,
      "metadata": {
        "ExecuteTime": {
          "end_time": "2020-06-17T02:11:19.182992Z",
          "start_time": "2020-06-17T02:11:19.170082Z"
        },
        "pycharm": {
          "is_executing": true
        }
      },
      "outputs": [],
      "source": [
        "results['HDF Fixed'] = {'read': np.mean(read.all_runs), 'write': np.mean(write.all_runs), 'size': size}"
      ]
    },
    {
      "cell_type": "markdown",
      "metadata": {},
      "source": [
        "### 테이블 형식"
      ]
    },
    {
      "cell_type": "markdown",
      "metadata": {},
      "source": [
        "#### 크기"
      ]
    },
    {
      "cell_type": "code",
      "execution_count": 24,
      "metadata": {
        "ExecuteTime": {
          "end_time": "2020-06-17T02:15:33.776631Z",
          "start_time": "2020-06-17T02:11:19.184371Z"
        },
        "pycharm": {
          "is_executing": true
        }
      },
      "outputs": [],
      "source": [
        "with pd.HDFStore(test_store) as store:\n",
        "    store.append('file', df, format='t')\n",
        "size = test_store.stat().st_size    "
      ]
    },
    {
      "cell_type": "markdown",
      "metadata": {},
      "source": [
        "#### 읽다"
      ]
    },
    {
      "cell_type": "code",
      "execution_count": null,
      "metadata": {
        "ExecuteTime": {
          "start_time": "2020-06-17T01:35:27.475Z"
        },
        "pycharm": {
          "is_executing": true
        }
      },
      "outputs": [],
      "source": [
        "%%timeit -o\n",
        "with pd.HDFStore(test_store) as store:\n",
        "    df = store.get('file')"
      ]
    },
    {
      "cell_type": "code",
      "execution_count": null,
      "metadata": {
        "ExecuteTime": {
          "start_time": "2020-06-17T01:35:27.484Z"
        },
        "pycharm": {
          "is_executing": true
        }
      },
      "outputs": [],
      "source": [
        "read = _"
      ]
    },
    {
      "cell_type": "code",
      "execution_count": null,
      "metadata": {
        "ExecuteTime": {
          "start_time": "2020-06-17T01:35:27.491Z"
        },
        "pycharm": {
          "is_executing": true
        }
      },
      "outputs": [],
      "source": [
        "test_store.unlink()"
      ]
    },
    {
      "cell_type": "markdown",
      "metadata": {},
      "source": [
        "#### 쓰다"
      ]
    },
    {
      "cell_type": "markdown",
      "metadata": {},
      "source": [
        "테이블 형식의 `write`은 텍스트 데이터에서 작동하지 않습니다."
      ]
    },
    {
      "cell_type": "code",
      "execution_count": null,
      "metadata": {
        "ExecuteTime": {
          "start_time": "2020-06-17T01:35:27.499Z"
        },
        "pycharm": {
          "is_executing": true
        }
      },
      "outputs": [],
      "source": [
        "%%timeit -o\n",
        "with pd.HDFStore(test_store) as store:\n",
        "    store.append('file', df, format='t')\n",
        "test_store.unlink()    "
      ]
    },
    {
      "cell_type": "code",
      "execution_count": null,
      "metadata": {
        "ExecuteTime": {
          "start_time": "2020-06-17T01:35:27.507Z"
        },
        "pycharm": {
          "is_executing": true
        }
      },
      "outputs": [],
      "source": [
        "write = _"
      ]
    },
    {
      "cell_type": "markdown",
      "metadata": {},
      "source": [
        "#### 결과"
      ]
    },
    {
      "cell_type": "code",
      "execution_count": null,
      "metadata": {
        "ExecuteTime": {
          "start_time": "2020-06-17T01:35:27.515Z"
        },
        "pycharm": {
          "is_executing": true
        }
      },
      "outputs": [],
      "source": [
        "results['HDF Table'] = {'read': np.mean(read.all_runs), 'write': np.mean(write.all_runs), 'size': size}"
      ]
    },
    {
      "cell_type": "markdown",
      "metadata": {},
      "source": [
        "### 테이블 선택"
      ]
    },
    {
      "cell_type": "markdown",
      "metadata": {},
      "source": [
        "#### 크기"
      ]
    },
    {
      "cell_type": "code",
      "execution_count": null,
      "metadata": {
        "ExecuteTime": {
          "start_time": "2020-06-17T01:35:27.527Z"
        },
        "pycharm": {
          "is_executing": true
        }
      },
      "outputs": [],
      "source": [
        "with pd.HDFStore(test_store) as store:\n",
        "    store.append('file', df, format='t', data_columns=['company', 'form'])\n",
        "size = test_store.stat().st_size "
      ]
    },
    {
      "cell_type": "markdown",
      "metadata": {},
      "source": [
        "#### 읽다"
      ]
    },
    {
      "cell_type": "code",
      "execution_count": null,
      "metadata": {
        "ExecuteTime": {
          "start_time": "2020-06-17T01:35:27.531Z"
        },
        "pycharm": {
          "is_executing": true
        }
      },
      "outputs": [],
      "source": [
        "company = 'APPLE INC'"
      ]
    },
    {
      "cell_type": "code",
      "execution_count": null,
      "metadata": {
        "ExecuteTime": {
          "start_time": "2020-06-17T01:35:27.535Z"
        },
        "pycharm": {
          "is_executing": true
        }
      },
      "outputs": [],
      "source": [
        "%%timeit\n",
        "with pd.HDFStore(test_store) as store:\n",
        "    s = store.get('file')"
      ]
    },
    {
      "cell_type": "code",
      "execution_count": null,
      "metadata": {
        "ExecuteTime": {
          "start_time": "2020-06-17T01:35:27.551Z"
        },
        "pycharm": {
          "is_executing": true
        }
      },
      "outputs": [],
      "source": [
        "read = _"
      ]
    },
    {
      "cell_type": "code",
      "execution_count": null,
      "metadata": {
        "ExecuteTime": {
          "start_time": "2020-06-17T01:35:27.554Z"
        },
        "pycharm": {
          "is_executing": true
        }
      },
      "outputs": [],
      "source": [
        "test_store.unlink()"
      ]
    },
    {
      "cell_type": "markdown",
      "metadata": {},
      "source": [
        "#### 쓰다"
      ]
    },
    {
      "cell_type": "code",
      "execution_count": null,
      "metadata": {
        "ExecuteTime": {
          "start_time": "2020-06-17T01:35:27.572Z"
        },
        "pycharm": {
          "is_executing": true
        }
      },
      "outputs": [],
      "source": [
        "%%timeit\n",
        "with pd.HDFStore(test_store) as store:\n",
        "    store.append('file', df, format='t', data_columns=['company', 'form'])\n",
        "test_store.unlink() "
      ]
    },
    {
      "cell_type": "code",
      "execution_count": null,
      "metadata": {
        "ExecuteTime": {
          "start_time": "2020-06-17T01:35:27.575Z"
        },
        "pycharm": {
          "is_executing": true
        }
      },
      "outputs": [],
      "source": [
        "write = _"
      ]
    },
    {
      "cell_type": "markdown",
      "metadata": {},
      "source": [
        "#### 결과"
      ]
    },
    {
      "cell_type": "code",
      "execution_count": null,
      "metadata": {
        "ExecuteTime": {
          "start_time": "2020-06-17T01:35:27.579Z"
        },
        "pycharm": {
          "is_executing": true
        }
      },
      "outputs": [],
      "source": [
        "results['HDF Select'] = {'read': np.mean(read.all_runs), 'write': np.mean(write.all_runs), 'size': size}"
      ]
    },
    {
      "cell_type": "markdown",
      "metadata": {},
      "source": [
        "## CSV"
      ]
    },
    {
      "cell_type": "code",
      "execution_count": null,
      "metadata": {
        "ExecuteTime": {
          "start_time": "2020-06-17T01:35:27.583Z"
        },
        "pycharm": {
          "is_executing": true
        }
      },
      "outputs": [],
      "source": [
        "test_csv = Path('test.csv')"
      ]
    },
    {
      "cell_type": "markdown",
      "metadata": {},
      "source": [
        "### 크기"
      ]
    },
    {
      "cell_type": "code",
      "execution_count": null,
      "metadata": {
        "ExecuteTime": {
          "start_time": "2020-06-17T01:35:27.587Z"
        },
        "pycharm": {
          "is_executing": true
        }
      },
      "outputs": [],
      "source": [
        "df.to_csv(test_csv)\n",
        "test_csv.stat().st_size"
      ]
    },
    {
      "cell_type": "markdown",
      "metadata": {},
      "source": [
        "### 읽다"
      ]
    },
    {
      "cell_type": "code",
      "execution_count": null,
      "metadata": {
        "ExecuteTime": {
          "start_time": "2020-06-17T01:35:27.592Z"
        },
        "pycharm": {
          "is_executing": true
        }
      },
      "outputs": [],
      "source": [
        "%%timeit -o\n",
        "df = pd.read_csv(test_csv)"
      ]
    },
    {
      "cell_type": "code",
      "execution_count": null,
      "metadata": {
        "ExecuteTime": {
          "start_time": "2020-06-17T01:35:27.596Z"
        },
        "pycharm": {
          "is_executing": true
        }
      },
      "outputs": [],
      "source": [
        "read = _"
      ]
    },
    {
      "cell_type": "code",
      "execution_count": null,
      "metadata": {
        "ExecuteTime": {
          "start_time": "2020-06-17T01:35:27.600Z"
        },
        "pycharm": {
          "is_executing": true
        }
      },
      "outputs": [],
      "source": [
        "test_csv.unlink()  "
      ]
    },
    {
      "cell_type": "markdown",
      "metadata": {},
      "source": [
        "### 쓰다"
      ]
    },
    {
      "cell_type": "code",
      "execution_count": null,
      "metadata": {
        "ExecuteTime": {
          "start_time": "2020-06-17T01:35:27.605Z"
        },
        "pycharm": {
          "is_executing": true
        }
      },
      "outputs": [],
      "source": [
        "%%timeit -o\n",
        "df.to_csv(test_csv)\n",
        "test_csv.unlink()"
      ]
    },
    {
      "cell_type": "code",
      "execution_count": null,
      "metadata": {
        "ExecuteTime": {
          "start_time": "2020-06-17T01:35:27.616Z"
        },
        "pycharm": {
          "is_executing": true
        }
      },
      "outputs": [],
      "source": [
        "write = _"
      ]
    },
    {
      "cell_type": "markdown",
      "metadata": {},
      "source": [
        "### 결과"
      ]
    },
    {
      "cell_type": "code",
      "execution_count": null,
      "metadata": {
        "ExecuteTime": {
          "start_time": "2020-06-17T01:35:27.621Z"
        },
        "pycharm": {
          "is_executing": true
        }
      },
      "outputs": [],
      "source": [
        "results['CSV'] = {'read': np.mean(read.all_runs), 'write': np.mean(write.all_runs), 'size': size}"
      ]
    },
    {
      "cell_type": "markdown",
      "metadata": {},
      "source": [
        "## 결과 저장"
      ]
    },
    {
      "cell_type": "code",
      "execution_count": null,
      "metadata": {
        "ExecuteTime": {
          "start_time": "2020-06-17T01:35:27.625Z"
        },
        "pycharm": {
          "is_executing": true
        }
      },
      "outputs": [],
      "source": [
        "pd.DataFrame(results).assign(Data=data_type).to_csv(f'{data_type}.csv')"
      ]
    },
    {
      "cell_type": "markdown",
      "metadata": {},
      "source": [
        "## 결과 표시"
      ]
    },
    {
      "cell_type": "markdown",
      "metadata": {},
      "source": [
        "위에서 설명한 대로 `Usage`에서 노트북을 두 번 실행하여 서로 다른 테스트 데이터에 대한 결과가 포함된 두 개의 `csv` 파일을 생성하세요."
      ]
    },
    {
      "cell_type": "code",
      "execution_count": null,
      "metadata": {
        "ExecuteTime": {
          "start_time": "2020-06-17T01:35:27.630Z"
        },
        "pycharm": {
          "is_executing": true
        }
      },
      "outputs": [],
      "source": [
        "df = (pd.read_csv('Numeric.csv', index_col=0)\n",
        "      .append(pd.read_csv('Mixed.csv', index_col=0))\n",
        "      .rename(columns=str.capitalize))\n",
        "df.index.name='Storage'\n",
        "df = df.set_index('Data', append=True).unstack()\n",
        "df.Size /= 1e9"
      ]
    },
    {
      "cell_type": "code",
      "execution_count": null,
      "metadata": {
        "ExecuteTime": {
          "start_time": "2020-06-17T01:35:27.633Z"
        },
        "pycharm": {
          "is_executing": true
        },
        "scrolled": false
      },
      "outputs": [],
      "source": [
        "fig, axes = plt.subplots(ncols=3, figsize=(16, 4))\n",
        "for i, op in enumerate(['Read', 'Write', 'Size']):\n",
        "    flag= op in ['Read', 'Write']\n",
        "    df.loc[:, op].plot.barh(title=op, ax=axes[i], logx=flag)\n",
        "    if flag:\n",
        "        axes[i].set_xlabel('seconds (log scale)')\n",
        "    else:\n",
        "        axes[i].set_xlabel('GB')\n",
        "fig.tight_layout()\n",
        "fig.savefig('storage', dpi=300);"
      ]
    }
  ],
  "metadata": {
    "kernelspec": {
      "display_name": "Python 3",
      "language": "python",
      "name": "python3"
    },
    "language_info": {
      "codemirror_mode": {
        "name": "ipython",
        "version": 3
      },
      "file_extension": ".py",
      "mimetype": "text/x-python",
      "name": "python",
      "nbconvert_exporter": "python",
      "pygments_lexer": "ipython3",
      "version": "3.8.8"
    },
    "toc": {
      "base_numbering": 1,
      "nav_menu": {},
      "number_sections": true,
      "sideBar": true,
      "skip_h1_title": true,
      "title_cell": "Table of Contents",
      "title_sidebar": "Contents",
      "toc_cell": false,
      "toc_position": {},
      "toc_section_display": true,
      "toc_window_display": true
    }
  },
  "nbformat": 4,
  "nbformat_minor": 2
}