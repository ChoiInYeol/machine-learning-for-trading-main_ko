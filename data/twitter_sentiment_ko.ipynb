{
  "cells": [
    {
      "cell_type": "markdown",
      "metadata": {},
      "source": [
        "# 감정 분석을 위한 Twitter 데이터 다운로드"
      ]
    },
    {
      "cell_type": "markdown",
      "metadata": {},
      "source": [
        "우리는 2009년부터 160만 개의 훈련과 350개의 테스트 트윗이 포함된 데이터 세트를 사용하며 알고리즘에 따라 상당히 균등하게 분할된 긍정적 및 부정적 감정 점수가 할당됩니다."
      ]
    },
    {
      "cell_type": "code",
      "execution_count": 9,
      "metadata": {
        "ExecuteTime": {
          "end_time": "2020-06-21T00:31:58.308350Z",
          "start_time": "2020-06-21T00:31:57.790270Z"
        }
      },
      "outputs": [],
      "source": [
        "from pathlib import Path\n",
        "import requests\n",
        "from io import BytesIO\n",
        "from zipfile import ZipFile"
      ]
    },
    {
      "cell_type": "markdown",
      "metadata": {},
      "source": [
        "## 다운로드하고 압축을 푼다"
      ]
    },
    {
      "cell_type": "markdown",
      "metadata": {},
      "source": [
        "[여기](http://cs.stanford.edu/people/alecmgo/trainingandtestdata.zip)에서 데이터를 다운로드합니다."
      ]
    },
    {
      "cell_type": "markdown",
      "metadata": {},
      "source": [
        "다음 코드는 압축 파일의 내용을 다운로드 및 추출하여 'sentiment140'에 저장하고, 내용의 이름을 다음과 같이 변경합니다.",
        "- `training.1600000.processed.noemoticon.csv` ~ `train.csv` 및",
        "- `testdata.manual.2009.06.14.csv` ~ `test.csv`"
      ]
    },
    {
      "cell_type": "code",
      "execution_count": 2,
      "metadata": {
        "ExecuteTime": {
          "end_time": "2020-06-21T00:25:19.229380Z",
          "start_time": "2020-06-21T00:25:19.224873Z"
        }
      },
      "outputs": [],
      "source": [
        "path = Path('sentiment140')\n",
        "if not path.exists():\n",
        "    path.mkdir()"
      ]
    },
    {
      "cell_type": "code",
      "execution_count": 3,
      "metadata": {
        "ExecuteTime": {
          "end_time": "2020-06-21T00:25:19.236716Z",
          "start_time": "2020-06-21T00:25:19.230823Z"
        }
      },
      "outputs": [],
      "source": [
        "URL = 'http://cs.stanford.edu/people/alecmgo/trainingandtestdata.zip'"
      ]
    },
    {
      "cell_type": "code",
      "execution_count": 5,
      "metadata": {
        "ExecuteTime": {
          "end_time": "2020-06-21T00:26:09.959959Z",
          "start_time": "2020-06-21T00:25:26.510947Z"
        }
      },
      "outputs": [],
      "source": [
        "response = requests.get(URL).content"
      ]
    },
    {
      "cell_type": "code",
      "execution_count": 8,
      "metadata": {
        "ExecuteTime": {
          "end_time": "2020-06-21T00:28:27.896171Z",
          "start_time": "2020-06-21T00:28:23.826570Z"
        }
      },
      "outputs": [],
      "source": [
        "with ZipFile(BytesIO(response)) as zip_file:\n",
        "    for i, file in enumerate(zip_file.namelist()):\n",
        "        if file.startswith('train'):\n",
        "            local_file = path / 'train.csv'\n",
        "        elif file.startswith('test'):\n",
        "            local_file = path / 'test.csv'\n",
        "        else:\n",
        "            continue\n",
        "        with local_file.open('wb') as output:\n",
        "            for line in zip_file.open(file).readlines():\n",
        "                output.write(line)"
      ]
    }
  ],
  "metadata": {
    "kernelspec": {
      "display_name": "Python [conda env:ml4t] *",
      "language": "python",
      "name": "conda-env-ml4t-py"
    },
    "language_info": {
      "codemirror_mode": {
        "name": "ipython",
        "version": 3
      },
      "file_extension": ".py",
      "mimetype": "text/x-python",
      "name": "python",
      "nbconvert_exporter": "python",
      "pygments_lexer": "ipython3",
      "version": "3.7.7"
    },
    "toc": {
      "base_numbering": 1,
      "nav_menu": {},
      "number_sections": true,
      "sideBar": true,
      "skip_h1_title": false,
      "title_cell": "Table of Contents",
      "title_sidebar": "Contents",
      "toc_cell": false,
      "toc_position": {},
      "toc_section_display": true,
      "toc_window_display": false
    }
  },
  "nbformat": 4,
  "nbformat_minor": 4
}