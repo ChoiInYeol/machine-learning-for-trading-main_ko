{
  "cells": [
    {
      "cell_type": "markdown",
      "metadata": {},
      "source": [
        "# 단어 표현을 위해 사전 훈련된 글로벌 벡터(GloVe) 다운로드"
      ]
    },
    {
      "cell_type": "markdown",
      "metadata": {},
      "source": [
        "우리는 2009년부터 160만 개의 훈련과 350개의 테스트 트윗이 포함된 데이터 세트를 사용하며 알고리즘에 따라 상당히 균등하게 분할된 긍정적 및 부정적 감정 점수가 할당됩니다."
      ]
    },
    {
      "cell_type": "markdown",
      "metadata": {},
      "source": [
        "## 가져오기 및 설정"
      ]
    },
    {
      "cell_type": "code",
      "execution_count": 1,
      "metadata": {
        "ExecuteTime": {
          "end_time": "2021-02-23T05:06:46.301154Z",
          "start_time": "2021-02-23T05:06:46.265026Z"
        }
      },
      "outputs": [],
      "source": [
        "from pathlib import Path\n",
        "import requests\n",
        "from io import BytesIO\n",
        "from zipfile import ZipFile\n",
        "from tqdm import tqdm"
      ]
    },
    {
      "cell_type": "markdown",
      "metadata": {},
      "source": [
        "## 다운로드하고 압축을 푼다"
      ]
    },
    {
      "cell_type": "markdown",
      "metadata": {},
      "source": [
        "데이터에 대해 자세히 알아보고 [여기](https://nlp.stanford.edu/projects/glove/)에서 수동으로 다운로드할 수 있습니다."
      ]
    },
    {
      "cell_type": "code",
      "execution_count": 2,
      "metadata": {
        "ExecuteTime": {
          "end_time": "2021-02-23T05:06:46.303974Z",
          "start_time": "2021-02-23T05:06:46.302216Z"
        }
      },
      "outputs": [],
      "source": [
        "path = Path('glove')\n",
        "if not path.exists():\n",
        "    path.mkdir()"
      ]
    },
    {
      "cell_type": "code",
      "execution_count": 3,
      "metadata": {
        "ExecuteTime": {
          "end_time": "2021-02-23T05:06:46.333523Z",
          "start_time": "2021-02-23T05:06:46.305049Z"
        }
      },
      "outputs": [],
      "source": [
        "URLs = ['http://nlp.stanford.edu/data/glove.6B.zip',\n",
        "        'http://nlp.stanford.edu/data/glove.twitter.27B.zip',\n",
        "        'http://nlp.stanford.edu/data/glove.840B.300d.zip']"
      ]
    },
    {
      "cell_type": "code",
      "execution_count": 4,
      "metadata": {
        "ExecuteTime": {
          "end_time": "2021-02-23T05:06:46.345288Z",
          "start_time": "2021-02-23T05:06:46.334383Z"
        }
      },
      "outputs": [],
      "source": [
        "all_targets = [('glove.6B.100d.txt', 'glove.6B.300d.txt'),\n",
        "               ('glove.twitter.27B.200d.txt',),\n",
        "               ('glove.840B.300d.txt',)]"
      ]
    },
    {
      "cell_type": "markdown",
      "metadata": {},
      "source": [
        "다운로드는 연결에 따라 대상당 10~20분 이상 걸릴 수 있습니다. 브라우저에 URL 중 하나를 붙여넣어 다운로드 속도와 예상 시간을 확인할 수 있습니다."
      ]
    },
    {
      "cell_type": "code",
      "execution_count": 5,
      "metadata": {
        "ExecuteTime": {
          "end_time": "2021-02-23T05:44:32.843649Z",
          "start_time": "2021-02-23T05:06:46.346247Z"
        }
      },
      "outputs": [
        {
          "name": "stdout",
          "output_type": "stream",
          "text": [
            "downloading ('glove.6B.100d.txt', 'glove.6B.300d.txt')...\n"
          ]
        },
        {
          "name": "stderr",
          "output_type": "stream",
          "text": [
            "\r",
            "  0%|          | 0/4 [00:00<?, ?it/s]"
          ]
        },
        {
          "name": "stdout",
          "output_type": "stream",
          "text": [
            "done\n"
          ]
        },
        {
          "name": "stderr",
          "output_type": "stream",
          "text": [
            "100%|██████████| 4/4 [00:11<00:00,  2.85s/it]\n"
          ]
        },
        {
          "name": "stdout",
          "output_type": "stream",
          "text": [
            "downloading ('glove.twitter.27B.200d.txt',)...\n"
          ]
        },
        {
          "name": "stderr",
          "output_type": "stream",
          "text": [
            "\r",
            "  0%|          | 0/4 [00:00<?, ?it/s]"
          ]
        },
        {
          "name": "stdout",
          "output_type": "stream",
          "text": [
            "done\n"
          ]
        },
        {
          "name": "stderr",
          "output_type": "stream",
          "text": [
            "100%|██████████| 4/4 [00:16<00:00,  4.02s/it]\n"
          ]
        },
        {
          "name": "stdout",
          "output_type": "stream",
          "text": [
            "downloading ('glove.840B.300d.txt',)...\n"
          ]
        },
        {
          "name": "stderr",
          "output_type": "stream",
          "text": [
            "\r",
            "  0%|          | 0/1 [00:00<?, ?it/s]"
          ]
        },
        {
          "name": "stdout",
          "output_type": "stream",
          "text": [
            "done\n"
          ]
        },
        {
          "name": "stderr",
          "output_type": "stream",
          "text": [
            "100%|██████████| 1/1 [00:58<00:00, 58.75s/it]\n"
          ]
        }
      ],
      "source": [
        "for url, targets in zip(URLs, all_targets):\n",
        "    print(f'downloading {targets}...')\n",
        "    response = requests.get(url).content\n",
        "    print('done')\n",
        "    with ZipFile(BytesIO(response)) as zip_file:\n",
        "        for file in tqdm(zip_file.namelist()):\n",
        "            if file in targets:\n",
        "                local_file = path / file\n",
        "                if not local_file.exists():\n",
        "                    with local_file.open('wb') as output:\n",
        "                        for line in zip_file.open(file).readlines():\n",
        "                            output.write(line)"
      ]
    }
  ],
  "metadata": {
    "kernelspec": {
      "display_name": "Python [conda env:ml4t] *",
      "language": "python",
      "name": "conda-env-ml4t-py"
    },
    "language_info": {
      "codemirror_mode": {
        "name": "ipython",
        "version": 3
      },
      "file_extension": ".py",
      "mimetype": "text/x-python",
      "name": "python",
      "nbconvert_exporter": "python",
      "pygments_lexer": "ipython3",
      "version": "3.8.5"
    },
    "toc": {
      "base_numbering": 1,
      "nav_menu": {},
      "number_sections": true,
      "sideBar": true,
      "skip_h1_title": true,
      "title_cell": "Table of Contents",
      "title_sidebar": "Contents",
      "toc_cell": false,
      "toc_position": {},
      "toc_section_display": true,
      "toc_window_display": true
    }
  },
  "nbformat": 4,
  "nbformat_minor": 4
}